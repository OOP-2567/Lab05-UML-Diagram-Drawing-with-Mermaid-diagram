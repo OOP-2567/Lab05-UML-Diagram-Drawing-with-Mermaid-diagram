{
 "cells": [
  {
   "cell_type": "markdown",
   "metadata": {},
   "source": [
    "# Lab 5.2 การวาด class diagram ด้วย mermaid diagram"
   ]
  },
  {
   "cell_type": "markdown",
   "metadata": {},
   "source": [
    "## 5.2.1 องค์ประกอบใน class diagram"
   ]
  },
  {
   "cell_type": "markdown",
   "metadata": {},
   "source": [
    "### 1. Class"
   ]
  },
  {
   "cell_type": "markdown",
   "metadata": {},
   "source": [
    "การวาด class diagram ใน mermaid มี keywords ที่สำคัญคือ\n",
    "1. ต้องระบุ __ชนิดของไดะแกรม__ ด้วยคีย์เวิร์ด `classDiagram`\n",
    "2. ต้องระบุ __ชื่อคลาส__ ด้วยคีย์เวิร์ด `class`\n",
    "\n"
   ]
  },
  {
   "cell_type": "code",
   "execution_count": null,
   "metadata": {
    "dotnet_interactive": {
     "language": "mermaid"
    },
    "polyglot_notebook": {
     "kernelName": "mermaid"
    }
   },
   "outputs": [],
   "source": [
    "classDiagram\n",
    "    class Animal"
   ]
  },
  {
   "cell_type": "markdown",
   "metadata": {},
   "source": [
    "แก้ code จากด้านบนเป็น\n",
    "> ```diff\n",
    "> classDiagram\n",
    "> -    class Animal\n",
    "> +    class Vehicle\n",
    "> +    class Computer\n",
    "> ``` "
   ]
  },
  {
   "cell_type": "code",
   "execution_count": null,
   "metadata": {
    "dotnet_interactive": {
     "language": "mermaid"
    },
    "polyglot_notebook": {
     "kernelName": "mermaid"
    }
   },
   "outputs": [],
   "source": [
    "classDiagram\n",
    "\tclass Vehicle\n",
    "\tclass Computer\n",
    "    \n"
   ]
  },
  {
   "cell_type": "markdown",
   "metadata": {},
   "source": [
    "---"
   ]
  },
  {
   "cell_type": "markdown",
   "metadata": {},
   "source": [
    "### 2. Class label"
   ]
  },
  {
   "cell_type": "markdown",
   "metadata": {},
   "source": [
    "โดยปกติ ชื่อคลาสต้องไม่มีช่องว่างภายในชื่อ ในกรณีที่ต้องการระบุชื่อคลาสที่อ่านง่ายขึ้น เราสามารถใส่ label สำหรับคลาสได้"
   ]
  },
  {
   "cell_type": "code",
   "execution_count": null,
   "metadata": {
    "dotnet_interactive": {
     "language": "mermaid"
    },
    "polyglot_notebook": {
     "kernelName": "mermaid"
    }
   },
   "outputs": [],
   "source": [
    "classDiagram\n",
    "    class Animal[\"Animal with a label\"]\n",
    "    class Dog[\"Dog is animal\"]\n",
    "\n",
    "Animal <|-- Dog\n"
   ]
  },
  {
   "cell_type": "markdown",
   "metadata": {},
   "source": [
    "### การเพิ่มสมาชิกของคลาส\n",
    "\n",
    "Mermaid  มีรูปแบบในการเขียน code เพื่อระบุประเภทของสมาชิก ดังนี้\n",
    "1. การระบุตัวแปร (variables, fields, หรือ prpoerties)  ทำได้โดยการเขียนชื่อตัวแปร และ/หรือ ชนิด\n",
    "2. การระบุ method ทำได้โดยการเขียนชื่อ method ตามด้วยวงเล็บ\n",
    "\n",
    "เช่น\n",
    "> ```mermaid\n",
    "> classDiagram\n",
    "> class BankAccount\n",
    "> BankAccount : +String owner\n",
    "> BankAccount : +BigDecimal balance\n",
    "> BankAccount : +deposit(amount)\n",
    "> BankAccount : +withdrawal(amount)\n",
    "> ```\n"
   ]
  },
  {
   "cell_type": "markdown",
   "metadata": {},
   "source": [
    "ให้นำ code ข้างบนมาใส่ลงใน code cell  แล้วรันเพื่อดูผลลัพธ์"
   ]
  },
  {
   "cell_type": "code",
   "execution_count": null,
   "metadata": {
    "dotnet_interactive": {
     "language": "mermaid"
    },
    "polyglot_notebook": {
     "kernelName": "mermaid"
    }
   },
   "outputs": [],
   "source": [
    "classDiagram\n",
    "class BankAccout\n",
    "BankAccout : +String owner\n",
    "BankAccout : +BigDecimal balance\n",
    "BankAccout : +deposit(amount)\n",
    "BankAccout : +withdraw(amount)"
   ]
  },
  {
   "cell_type": "markdown",
   "metadata": {},
   "source": [
    "### การระบุ return type สำหรับ method\n",
    "ในโปรแกรม oop ส่วนใหญ่จะเป็นภาษาแบบ strong type นั่นคือต้องมีการระบุชนิดสำหรับการส่งค่ากลับของ method อย่างชัดเจน\n",
    "วิธีการเขียนคือให้ใส่ชนิด return ไว้หลังวงเล็บของ method\n",
    "> ```diff\n",
    "> classDiagram\n",
    "> class BankAccount{\n",
    ">     +String owner\n",
    ">     +BigDecimal balance\n",
    ">     +deposit(amount) bool\n",
    ">     +withdrawal(amount) int\n",
    "> }\n",
    "> ```"
   ]
  },
  {
   "cell_type": "markdown",
   "metadata": {},
   "source": [
    "เขียน code ตามข้างบนแล้วรันเพื่อดูผลลัพธ์"
   ]
  },
  {
   "cell_type": "code",
   "execution_count": null,
   "metadata": {
    "dotnet_interactive": {
     "language": "mermaid"
    },
    "polyglot_notebook": {
     "kernelName": "mermaid"
    }
   },
   "outputs": [],
   "source": [
    "classDiagram\n",
    "class BankAccount{\n",
    "    +String owner\n",
    "    +BigDecimal balance\n",
    "    +deposit(amount) bool\n",
    "    +withdraw(amount) int\n",
    "}"
   ]
  },
  {
   "cell_type": "markdown",
   "metadata": {},
   "source": [
    "### การระบุ visibility"
   ]
  },
  {
   "cell_type": "markdown",
   "metadata": {},
   "source": [
    "การระบุ visibility ของสมาชิกในคลาส\n",
    "\n",
    "|สัญลักษณ์|visibility|\n",
    "|:--:|--|\n",
    "|+ |Public|\n",
    "|- |Private|\n",
    "|#| Protected|"
   ]
  },
  {
   "cell_type": "markdown",
   "metadata": {},
   "source": [
    "คลาส Person เป็นตัวอย่างของคลาสคน ที่ไม่มีใครทราบชื่อ นามสกุล และอายของคนอื่น จนกว่าเขาจะบอกว่าเขาเป็นใคร อายุเท่าไหร่\n",
    "\n",
    "ถ้าเราอยากทราบข้อมูลส่วนบุคคล ให้ถามเขา (เช่นด้วยเมธอด  TellName, TellFullName และ TellAge เป็นต้น)\n",
    "\n",
    "ทดสอบไดอะแกรมต่อไปนี้โดยการรันในช่อง code cell ด้านล่าง\n",
    "\n",
    "```diff\n",
    ">classDiagram\n",
    ">  class Person{\n",
    ">      -String name\n",
    ">      #String lastName\n",
    ">      -int age\n",
    ">      +TellName() String\n",
    ">      +TellFullName() String\n",
    ">      +TellAge() int\n",
    ">  }\n",
    "```"
   ]
  },
  {
   "cell_type": "code",
   "execution_count": null,
   "metadata": {
    "dotnet_interactive": {
     "language": "mermaid"
    },
    "polyglot_notebook": {
     "kernelName": "mermaid"
    }
   },
   "outputs": [],
   "source": [
    "classDiagram\n",
    "  class Person{\n",
    "      -String name\n",
    "      #String lastName\n",
    "      -int age\n",
    "      +TellName() String\n",
    "      +TellFullName() String\n",
    "      +TellAge() int\n",
    "  }"
   ]
  },
  {
   "cell_type": "markdown",
   "metadata": {},
   "source": [
    "---"
   ]
  },
  {
   "cell_type": "markdown",
   "metadata": {},
   "source": [
    "### การกำหนดเส้นเชื่อมโยงเพื่อแสดงความสัมพันธ์ระหว่างคลาส"
   ]
  },
  {
   "cell_type": "markdown",
   "metadata": {},
   "source": [
    "\n",
    "มีรูปแบบการเขียนคือ\n",
    "\n",
    "[classA][Arrow][ClassB]"
   ]
  },
  {
   "cell_type": "markdown",
   "metadata": {},
   "source": [
    "ใน mermaid diagram มีรูปแบบลูกศรที่รองรับแตกต่างกัน 8 รูปแบบ \n",
    "\n",
    "|Type|\tDescription|\n",
    "|:---:|--------|\n",
    "|<\\|--\t|Inheritance|\n",
    "|*--\t|Composition|\n",
    "|o--\t|Aggregation|\n",
    "|-->\t|Association|\n",
    "|--\t|Link (Solid)|\n",
    "|..>\t|Dependency|\n",
    "|..\\|>\t|Realization|\n",
    "|..\t|Link (Dashed)|"
   ]
  },
  {
   "cell_type": "markdown",
   "metadata": {},
   "source": [
    "เขียน code ต่อไปนี้ลงใน code cell โดยกำหนดภาษาเป็น mermaid แล้วรันเพื่อดูผลที่ได้\n",
    "> ```diff\n",
    "> classDiagram\n",
    "> classA <|-- classB\n",
    "> classC *-- classD\n",
    "> classE o-- classF\n",
    "> classG <-- classH\n",
    "> classI -- classJ\n",
    "> classK <.. classL\n",
    "> classM <|.. classN\n",
    "> classO .. classP\n",
    "> ```\n"
   ]
  },
  {
   "cell_type": "code",
   "execution_count": null,
   "metadata": {
    "dotnet_interactive": {
     "language": "mermaid"
    },
    "polyglot_notebook": {
     "kernelName": "mermaid"
    }
   },
   "outputs": [],
   "source": [
    "classDiagram\n",
    "classA <|-- classB\n",
    "classC *-- classD\n",
    "classE o-- classF\n",
    "classG <-- classH\n",
    "classI -- classJ\n",
    "classK <.. classL\n",
    "classM <|.. classN\n",
    "classO .. classP"
   ]
  },
  {
   "cell_type": "markdown",
   "metadata": {},
   "source": [
    "เราสามารถกำหนดชื่อให้กับลูกศรได้\n",
    "\n"
   ]
  },
  {
   "cell_type": "markdown",
   "metadata": {},
   "source": [
    "เขียน code ต่อไปนี้ลงใน code cell โดยกำหนดภาษาเป็น mermaid แล้วรันเพื่อดูผลที่ได้\n",
    "> ```diff\n",
    "> classDiagram\n",
    "> classA --|> classB : Inheritance\n",
    "> classC --* classD : Composition\n",
    "> classE --o classF : Aggregation\n",
    "> classG --> classH : Association\n",
    "> classI -- classJ : Link(Solid)\n",
    "> classK ..> classL : Dependency\n",
    "> classM ..|> classN : Realization\n",
    "> classO .. classP : Link(Dashed)\n",
    "> ```"
   ]
  },
  {
   "cell_type": "code",
   "execution_count": null,
   "metadata": {
    "dotnet_interactive": {
     "language": "mermaid"
    },
    "polyglot_notebook": {
     "kernelName": "mermaid"
    }
   },
   "outputs": [],
   "source": [
    "classDiagram\n",
    "classA --|> classB : Inheritance\n",
    "classC --* classD : Composition\n",
    "classE --o classF : Aggregation\n",
    "classG --> classH : Association\n",
    "classI -- classJ : Link(Solid)\n",
    "classK ..> classL : Dependency\n",
    "classM ..|> classN : Realization\n",
    "classO .. classP : Link(Dashed)"
   ]
  },
  {
   "cell_type": "markdown",
   "metadata": {},
   "source": [
    "---"
   ]
  },
  {
   "cell_type": "markdown",
   "metadata": {},
   "source": [
    "### Cardinality / Multiplicity on relations"
   ]
  },
  {
   "cell_type": "markdown",
   "metadata": {},
   "source": [
    "รูปแบบต่างๆ ของ Cardinality\n",
    "\n",
    "|Symbol|Description|\n",
    "|:----:|----|\n",
    "|1 |Only 1|\n",
    "|0..1 |Zero or One|\n",
    "|1..* |One or more|\n",
    "|* |Many|\n",
    "|n |n (where n>1)|\n",
    "|0..n |zero to n (where n>1)|\n",
    "|1..n |one to n (where n>1)|"
   ]
  },
  {
   "cell_type": "markdown",
   "metadata": {},
   "source": [
    "วิธีการระบุ cardilanity\n",
    "\n",
    "`[classA] \"cardinality1\" [Arrow] \"cardinality2\" [ClassB]:LabelText`"
   ]
  },
  {
   "cell_type": "markdown",
   "metadata": {},
   "source": [
    "เขียน code ต่อไปนี้ลงใน mermaid code cell แล้วรันเพื่อดูผลลัพธ์\n",
    ">```diff\n",
    ">classDiagram\n",
    ">    Customer \"1\" --> \"*\" Ticket \n",
    ">    Student \"1\" --> \"1..*\" Course \n",
    ">    Galaxy --> \"many\" Star\n",
    ">``` "
   ]
  },
  {
   "cell_type": "code",
   "execution_count": null,
   "metadata": {
    "dotnet_interactive": {
     "language": "mermaid"
    },
    "polyglot_notebook": {
     "kernelName": "mermaid"
    }
   },
   "outputs": [],
   "source": [
    "classDiagram\n",
    "    Customer \"1\" --> \"*\" Ticket \n",
    "    Student \"1\" --> \"1..*\" Course \n",
    "    Galaxy --> \"many\" Star   "
   ]
  },
  {
   "cell_type": "markdown",
   "metadata": {},
   "source": [
    "ปรับปรุง code ด้านบน แล้วรันเพื่อดูผลลัพธ์\n",
    ">```diff\n",
    ">classDiagram\n",
    ">-    Customer \"1\" --> \"*\" Ticket \n",
    ">+    Customer \"1\" --> \"*\" Ticket : Buy\n",
    ">-    Student \"1\" --> \"1..*\" Course \n",
    ">+    Student \"1\" --> \"1..*\" Course : Register\n",
    ">-    Galaxy --> \"many\" Star\n",
    ">+    Galaxy --> \"many\" Star : Contains\n",
    ">```"
   ]
  },
  {
   "cell_type": "code",
   "execution_count": null,
   "metadata": {
    "dotnet_interactive": {
     "language": "mermaid"
    },
    "polyglot_notebook": {
     "kernelName": "mermaid"
    }
   },
   "outputs": [],
   "source": [
    "classDiagram\n",
    "    Customer \"1\" --> \"*\" Ticket : Buy\n",
    "    Student \"1\" --> \"1..*\" Course : Register\n",
    "    Galaxy --> \"many\" Star : Contains"
   ]
  },
  {
   "cell_type": "markdown",
   "metadata": {},
   "source": [
    "## แบบฝึดหัด\n",
    "\n",
    "1. ให้ค้นหา class diagram จาก internet มา 3 ภาพ ที่วาดขึ้นโดยโปรแกรมอื่นที่ไม่ใช่ mermaid  โดยมีองค์ประกอบในไดอะแกรมไม่น้อยกว่า 5 ชิ้นส่วน  \n",
    "2. เขียน code ในภาษา mermaid diagram เพื่อวาดตามไดอะแกรมนั้น\n",
    "3. นำภาพที่ได้เทียบกับต้นฉบับ โดย capture เป็น png แล้วแนบลิ้งค์มาในไฟล์ ipynb นี้ (อย่าวางภาพลงไปโดยการ copy & paste เนื่องจากจะทำให้ไฟล์ ipynb มีขนาดที่โตเกินไป)\n"
   ]
  },
  {
   "cell_type": "code",
   "execution_count": null,
   "metadata": {
    "dotnet_interactive": {
     "language": "mermaid"
    },
    "polyglot_notebook": {
     "kernelName": "mermaid"
    }
   },
   "outputs": [
    {
     "data": {
      "text/html": [
       "<div class=\"mermaidMarkdownContainer\" style=\"background-color:white\">\r\n",
       "<link rel=\"stylesheet\" href=\"https://cdnjs.cloudflare.com/ajax/libs/font-awesome/6.2.0/css/all.min.css\">\r\n",
       "<div id=\"c462f65b5c34408da18e125ef4004af6\"></div>\r\n",
       "<script type=\"module\">\r\n",
       "\r\n",
       "            import mermaid from 'https://cdn.jsdelivr.net/npm/mermaid@10.6.1/dist/mermaid.esm.min.mjs';\r\n",
       "            let renderTarget = document.getElementById('c462f65b5c34408da18e125ef4004af6');\r\n",
       "            try {\r\n",
       "                const {svg, bindFunctions} = await mermaid.mermaidAPI.render( \r\n",
       "                    'mermaid_c462f65b5c34408da18e125ef4004af6', \r\n",
       "                    `flowchart TD\r\n",
       "    Start([เริ่มต้น]) --> InputData[\"รับค่าเงินต้น อัตราดอกเบี้ย และจำนวนปีที่ฝากเงิน\"]\r\n",
       "    InputData --> SetN[\"กำหนดค่า n = 0\"]\r\n",
       "    SetN --> InitialBalance[\"ยอดบัญชี = เงินต้น\"]\r\n",
       "    InitialBalance --> Condition{n < จำนวนปีที่ฝากเงิน?}\r\n",
       "    Condition -- ใช่ --> Calculate[\"ยอดบัญชี = ยอดบัญชี + (ยอดบัญชี × อัตราดอกเบี้ย)\"]\r\n",
       "    Calculate --> IncrementN[\"n = n + 1\"]\r\n",
       "    IncrementN --> Condition\r\n",
       "    Condition -- ไม่ใช่ --> ShowBalance[\"แสดงยอดบัญชี\"]\r\n",
       "    ShowBalance --> End([จบ])`);\r\n",
       "                renderTarget.innerHTML = svg;\r\n",
       "                bindFunctions?.(renderTarget);\r\n",
       "            }\r\n",
       "            catch (error) {\r\n",
       "                console.log(error);\r\n",
       "            }\r\n",
       "</script>\r\n",
       "</div>\r\n"
      ]
     },
     "metadata": {},
     "output_type": "display_data"
    }
   ],
   "source": [
    "flowchart TD\n",
    "    Start([เริ่มต้น]) --> InputData[\"รับค่าเงินต้น อัตราดอกเบี้ย และจำนวนปีที่ฝากเงิน\"]\n",
    "    InputData --> SetN[\"กำหนดค่า n = 0\"]\n",
    "    SetN --> InitialBalance[\"ยอดบัญชี = เงินต้น\"]\n",
    "    InitialBalance --> Condition{n < จำนวนปีที่ฝากเงิน?}\n",
    "    Condition -- ใช่ --> Calculate[\"ยอดบัญชี = ยอดบัญชี + (ยอดบัญชี × อัตราดอกเบี้ย)\"]\n",
    "    Calculate --> IncrementN[\"n = n + 1\"]\n",
    "    IncrementN --> Condition\n",
    "    Condition -- ไม่ใช่ --> ShowBalance[\"แสดงยอดบัญชี\"]\n",
    "    ShowBalance --> End([จบ])"
   ]
  },
  {
   "cell_type": "markdown",
   "metadata": {},
   "source": [
    "![image (1).png](<attachment:image (1).png>)"
   ]
  },
  {
   "cell_type": "code",
   "execution_count": null,
   "metadata": {
    "dotnet_interactive": {
     "language": "mermaid"
    },
    "polyglot_notebook": {
     "kernelName": "mermaid"
    }
   },
   "outputs": [
    {
     "data": {
      "text/html": [
       "<div class=\"mermaidMarkdownContainer\" style=\"background-color:white\">\r\n",
       "<link rel=\"stylesheet\" href=\"https://cdnjs.cloudflare.com/ajax/libs/font-awesome/6.2.0/css/all.min.css\">\r\n",
       "<div id=\"446ff7d31f24491e96060abf0ed645ef\"></div>\r\n",
       "<script type=\"module\">\r\n",
       "\r\n",
       "            import mermaid from 'https://cdn.jsdelivr.net/npm/mermaid@10.6.1/dist/mermaid.esm.min.mjs';\r\n",
       "            let renderTarget = document.getElementById('446ff7d31f24491e96060abf0ed645ef');\r\n",
       "            try {\r\n",
       "                const {svg, bindFunctions} = await mermaid.mermaidAPI.render( \r\n",
       "                    'mermaid_446ff7d31f24491e96060abf0ed645ef', \r\n",
       "                    `flowchart TD\r\n",
       "    Start([Start]) --> SetI[\"i = 0\"]\r\n",
       "    SetI --> Setup[\"setup\"]\r\n",
       "    Setup --> CheckEvent{Is event?}\r\n",
       "    CheckEvent -- Yes --> Process1[\"process 1\"]\r\n",
       "    Process1 --> CheckPrime{Is prime?}\r\n",
       "    CheckPrime -- Yes --> Process2[\"process 2\"]\r\n",
       "    CheckPrime -- No --> IncrementI[\"i = i + 1\"]\r\n",
       "    IncrementI --> CheckDone{Done 1-to-10?}\r\n",
       "    CheckDone -- Yes --> Update[\"update\"]\r\n",
       "    Update --> Stop([Stop])\r\n",
       "    CheckDone -- No --> Setup\r\n",
       "    CheckEvent -- No --> IncrementI\r\n",
       "`);\r\n",
       "                renderTarget.innerHTML = svg;\r\n",
       "                bindFunctions?.(renderTarget);\r\n",
       "            }\r\n",
       "            catch (error) {\r\n",
       "                console.log(error);\r\n",
       "            }\r\n",
       "</script>\r\n",
       "</div>\r\n"
      ]
     },
     "metadata": {},
     "output_type": "display_data"
    }
   ],
   "source": [
    "flowchart TD\n",
    "    Start([Start]) --> SetI[\"i = 0\"]\n",
    "    SetI --> Setup[\"setup\"]\n",
    "    Setup --> CheckEvent{Is event?}\n",
    "    CheckEvent -- Yes --> Process1[\"process 1\"]\n",
    "    Process1 --> CheckPrime{Is prime?}\n",
    "    CheckPrime -- Yes --> Process2[\"process 2\"]\n",
    "    CheckPrime -- No --> IncrementI[\"i = i + 1\"]\n",
    "    IncrementI --> CheckDone{Done 1-to-10?}\n",
    "    CheckDone -- Yes --> Update[\"update\"]\n",
    "    Update --> Stop([Stop])\n",
    "    CheckDone -- No --> Setup\n",
    "    CheckEvent -- No --> IncrementI\n"
   ]
  },
  {
   "cell_type": "markdown",
   "metadata": {},
   "source": [
    "![image (2).png](<attachment:image (2).png>)"
   ]
  },
  {
   "cell_type": "code",
   "execution_count": null,
   "metadata": {
    "dotnet_interactive": {
     "language": "mermaid"
    },
    "polyglot_notebook": {
     "kernelName": "mermaid"
    }
   },
   "outputs": [
    {
     "data": {
      "text/html": [
       "<div class=\"mermaidMarkdownContainer\" style=\"background-color:white\">\r\n",
       "<link rel=\"stylesheet\" href=\"https://cdnjs.cloudflare.com/ajax/libs/font-awesome/6.2.0/css/all.min.css\">\r\n",
       "<div id=\"aea8c972c6d046069a723f554c70ed63\"></div>\r\n",
       "<script type=\"module\">\r\n",
       "\r\n",
       "            import mermaid from 'https://cdn.jsdelivr.net/npm/mermaid@10.6.1/dist/mermaid.esm.min.mjs';\r\n",
       "            let renderTarget = document.getElementById('aea8c972c6d046069a723f554c70ed63');\r\n",
       "            try {\r\n",
       "                const {svg, bindFunctions} = await mermaid.mermaidAPI.render( \r\n",
       "                    'mermaid_aea8c972c6d046069a723f554c70ed63', \r\n",
       "                    `flowchart TD\r\n",
       "    Start([Start]) --> CheckEmpty{Array empty?}\r\n",
       "    CheckEmpty -- Yes --> ReturnMinus1[\"return -1\"]\r\n",
       "    CheckEmpty -- No --> MidValue[\"x = mid value of k\"]\r\n",
       "    MidValue --> Compare{Is x == v?}\r\n",
       "    Compare -- Yes --> ReturnIndex[\"return index of x\"]\r\n",
       "    Compare -- No --> Greater{Is x > v?}\r\n",
       "    Greater -- Yes --> RemoveRHS[\"remove rhs of k\"]\r\n",
       "    Greater -- No --> RemoveLHS[\"remove lhs of k\"]\r\n",
       "    RemoveRHS --> CheckEmpty\r\n",
       "    RemoveLHS --> CheckEmpty\r\n",
       "`);\r\n",
       "                renderTarget.innerHTML = svg;\r\n",
       "                bindFunctions?.(renderTarget);\r\n",
       "            }\r\n",
       "            catch (error) {\r\n",
       "                console.log(error);\r\n",
       "            }\r\n",
       "</script>\r\n",
       "</div>\r\n"
      ]
     },
     "metadata": {},
     "output_type": "display_data"
    }
   ],
   "source": [
    "flowchart TD\n",
    "    Start([Start]) --> CheckEmpty{Array empty?}\n",
    "    CheckEmpty -- Yes --> ReturnMinus1[\"return -1\"]\n",
    "    CheckEmpty -- No --> MidValue[\"x = mid value of k\"]\n",
    "    MidValue --> Compare{Is x == v?}\n",
    "    Compare -- Yes --> ReturnIndex[\"return index of x\"]\n",
    "    Compare -- No --> Greater{Is x > v?}\n",
    "    Greater -- Yes --> RemoveRHS[\"remove rhs of k\"]\n",
    "    Greater -- No --> RemoveLHS[\"remove lhs of k\"]\n",
    "    RemoveRHS --> CheckEmpty\n",
    "    RemoveLHS --> CheckEmpty\n"
   ]
  },
  {
   "cell_type": "markdown",
   "metadata": {},
   "source": [
    "![image (3).png](<attachment:image (3).png>)"
   ]
  }
 ],
 "metadata": {
  "kernelspec": {
   "display_name": ".NET (C#)",
   "language": "C#",
   "name": ".net-csharp"
  },
  "polyglot_notebook": {
   "kernelInfo": {
    "defaultKernelName": "mermaid",
    "items": [
     {
      "aliases": [],
      "languageName": "mermaid",
      "name": "mermaid"
     }
    ]
   }
  }
 },
 "nbformat": 4,
 "nbformat_minor": 2
}
