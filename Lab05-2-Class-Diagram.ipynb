{
 "cells": [
  {
   "cell_type": "markdown",
   "metadata": {},
   "source": [
    "# Lab 5.2 การวาด class diagram ด้วย mermaid diagram"
   ]
  },
  {
   "cell_type": "markdown",
   "metadata": {},
   "source": [
    "## 5.2.1 องค์ประกอบใน class diagram"
   ]
  },
  {
   "cell_type": "markdown",
   "metadata": {},
   "source": [
    "### 1. Class"
   ]
  },
  {
   "cell_type": "markdown",
   "metadata": {},
   "source": [
    "การวาด class diagram ใน mermaid มี keywords ที่สำคัญคือ\n",
    "1. ต้องระบุ __ชนิดของไดะแกรม__ ด้วยคีย์เวิร์ด `classDiagram`\n",
    "2. ต้องระบุ __ชื่อคลาส__ ด้วยคีย์เวิร์ด `class`\n",
    "\n"
   ]
  },
  {
   "cell_type": "code",
   "execution_count": null,
   "metadata": {
    "dotnet_interactive": {
     "language": "mermaid"
    },
    "polyglot_notebook": {
     "kernelName": "mermaid"
    }
   },
   "outputs": [],
   "source": [
    "classDiagram\n",
    "    class Animal\n"
   ]
  },
  {
   "cell_type": "markdown",
   "metadata": {},
   "source": [
    "แก้ code จากด้านบนเป็น\n",
    "> ```diff\n",
    "> classDiagram\n",
    "> -    class Animal\n",
    "> +    class Vehicle\n",
    "> +    class Computer\n",
    "> ``` "
   ]
  },
  {
   "cell_type": "code",
   "execution_count": null,
   "metadata": {
    "dotnet_interactive": {
     "language": "mermaid"
    },
    "polyglot_notebook": {
     "kernelName": "mermaid"
    }
   },
   "outputs": [],
   "source": [
    "classDiagram\n",
    "    class Vehicle\n",
    "    class Computer"
   ]
  },
  {
   "cell_type": "markdown",
   "metadata": {},
   "source": [
    "---"
   ]
  },
  {
   "cell_type": "markdown",
   "metadata": {},
   "source": [
    "### 2. Class label"
   ]
  },
  {
   "cell_type": "markdown",
   "metadata": {},
   "source": [
    "โดยปกติ ชื่อคลาสต้องไม่มีช่องว่างภายในชื่อ ในกรณีที่ต้องการระบุชื่อคลาสที่อ่านง่ายขึ้น เราสามารถใส่ label สำหรับคลาสได้"
   ]
  },
  {
   "cell_type": "code",
   "execution_count": null,
   "metadata": {
    "dotnet_interactive": {
     "language": "mermaid"
    },
    "polyglot_notebook": {
     "kernelName": "mermaid"
    }
   },
   "outputs": [],
   "source": [
    "classDiagram\n",
    "    class Animal[\"Animal with a label\"]\n",
    "    class Dog[\"Dog is animal\"]\n",
    "\n",
    "Animal <|-- Dog\n"
   ]
  },
  {
   "cell_type": "markdown",
   "metadata": {},
   "source": [
    "### การเพิ่มสมาชิกของคลาส\n",
    "\n",
    "Mermaid  มีรูปแบบในการเขียน code เพื่อระบุประเภทของสมาชิก ดังนี้\n",
    "1. การระบุตัวแปร (variables, fields, หรือ prpoerties)  ทำได้โดยการเขียนชื่อตัวแปร และ/หรือ ชนิด\n",
    "2. การระบุ method ทำได้โดยการเขียนชื่อ method ตามด้วยวงเล็บ\n",
    "\n",
    "เช่น\n",
    "> ```mermaid\n",
    "> classDiagram\n",
    "> class BankAccount\n",
    "> BankAccount : +String owner\n",
    "> BankAccount : +BigDecimal balance\n",
    "> BankAccount : +deposit(amount)\n",
    "> BankAccount : +withdrawal(amount)\n",
    "> ```\n"
   ]
  },
  {
   "cell_type": "markdown",
   "metadata": {},
   "source": [
    "ให้นำ code ข้างบนมาใส่ลงใน code cell  แล้วรันเพื่อดูผลลัพธ์"
   ]
  },
  {
   "cell_type": "code",
   "execution_count": null,
   "metadata": {
    "dotnet_interactive": {
     "language": "mermaid"
    },
    "polyglot_notebook": {
     "kernelName": "mermaid"
    }
   },
   "outputs": [],
   "source": [
    "classDiagram\n",
    " class BankAccount\n",
    " BankAccount : +String owner\n",
    " BankAccount : +BigDecimal balance\n",
    " BankAccount : +deposit(amount)\n",
    " BankAccount : +withdrawal(amount)"
   ]
  },
  {
   "cell_type": "markdown",
   "metadata": {},
   "source": [
    "### การระบุ return type สำหรับ method\n",
    "ในโปรแกรม oop ส่วนใหญ่จะเป็นภาษาแบบ strong type นั่นคือต้องมีการระบุชนิดสำหรับการส่งค่ากลับของ method อย่างชัดเจน\n",
    "วิธีการเขียนคือให้ใส่ชนิด return ไว้หลังวงเล็บของ method\n",
    "> ```diff\n",
    "> classDiagram\n",
    "> class BankAccount{\n",
    ">     +String owner\n",
    ">     +BigDecimal balance\n",
    ">     +deposit(amount) bool\n",
    ">     +withdrawal(amount) int\n",
    "> }\n",
    "> ```"
   ]
  },
  {
   "cell_type": "markdown",
   "metadata": {},
   "source": [
    "เขียน code ตามข้างบนแล้วรันเพื่อดูผลลัพธ์"
   ]
  },
  {
   "cell_type": "code",
   "execution_count": null,
   "metadata": {
    "dotnet_interactive": {
     "language": "mermaid"
    },
    "polyglot_notebook": {
     "kernelName": "mermaid"
    }
   },
   "outputs": [],
   "source": [
    "classDiagram\n",
    "    class BackAccount{\n",
    "        -String owner\n",
    "        -BigDecimal balance\n",
    "        +deposit(amount) bool\n",
    "        +withdrawal(amount) int\n",
    "    }"
   ]
  },
  {
   "cell_type": "markdown",
   "metadata": {},
   "source": [
    "### การระบุ visibility"
   ]
  },
  {
   "cell_type": "markdown",
   "metadata": {},
   "source": [
    "การระบุ visibility ของสมาชิกในคลาส\n",
    "\n",
    "|สัญลักษณ์|visibility|\n",
    "|:--:|--|\n",
    "|+ |Public|\n",
    "|- |Private|\n",
    "|#| Protected|"
   ]
  },
  {
   "cell_type": "markdown",
   "metadata": {},
   "source": [
    "คลาส Person เป็นตัวอย่างของคลาสคน ที่ไม่มีใครทราบชื่อ นามสกุล และอายของคนอื่น จนกว่าเขาจะบอกว่าเขาเป็นใคร อายุเท่าไหร่\n",
    "\n",
    "ถ้าเราอยากทราบข้อมูลส่วนบุคคล ให้ถามเขา (เช่นด้วยเมธอด  TellName, TellFullName และ TellAge เป็นต้น)\n",
    "\n",
    "ทดสอบไดอะแกรมต่อไปนี้โดยการรันในช่อง code cell ด้านล่าง\n",
    "\n",
    "```diff\n",
    ">classDiagram\n",
    ">  class Person{\n",
    ">      -String name\n",
    ">      #String lastName\n",
    ">      -int age\n",
    ">      +TellName() String\n",
    ">      +TellFullName() String\n",
    ">      +TellAge() int\n",
    ">  }\n",
    "```"
   ]
  },
  {
   "cell_type": "code",
   "execution_count": null,
   "metadata": {
    "dotnet_interactive": {
     "language": "mermaid"
    },
    "polyglot_notebook": {
     "kernelName": "mermaid"
    }
   },
   "outputs": [],
   "source": [
    "classDiagram\n",
    "    class Person{\n",
    "        -String name\n",
    "        #String lastname\n",
    "        -int age\n",
    "        +Telname() String\n",
    "        +TellFullName() String\n",
    "        +TellAge() int\n",
    "    }"
   ]
  },
  {
   "cell_type": "markdown",
   "metadata": {},
   "source": [
    "---"
   ]
  },
  {
   "cell_type": "markdown",
   "metadata": {},
   "source": [
    "### การกำหนดเส้นเชื่อมโยงเพื่อแสดงความสัมพันธ์ระหว่างคลาส"
   ]
  },
  {
   "cell_type": "markdown",
   "metadata": {},
   "source": [
    "\n",
    "มีรูปแบบการเขียนคือ\n",
    "\n",
    "[classA][Arrow][ClassB]"
   ]
  },
  {
   "cell_type": "markdown",
   "metadata": {},
   "source": [
    "ใน mermaid diagram มีรูปแบบลูกศรที่รองรับแตกต่างกัน 8 รูปแบบ \n",
    "\n",
    "|Type|\tDescription|\n",
    "|---|--------|\n",
    "|<\\|--\t|Inheritance|\n",
    "|*--\t|Composition|\n",
    "|o--\t|Aggregation|\n",
    "|-->\t|Association|\n",
    "|--\t|Link (Solid)|\n",
    "|..>\t|Dependency|\n",
    "|..|>\t|Realization|\n",
    "|..\t|Link (Dashed)|"
   ]
  },
  {
   "cell_type": "markdown",
   "metadata": {},
   "source": [
    "เขียน code ต่อไปนี้ลงใน code cell โดยกำหนดภาษาเป็น mermaid แล้วรันเพื่อดูผลที่ได้\n",
    "> ```diff\n",
    "> classDiagram\n",
    "> classA <|-- classB\n",
    "> classC *-- classD\n",
    "> classE o-- classF\n",
    "> classG <-- classH\n",
    "> classI -- classJ\n",
    "> classK <.. classL\n",
    "> classM <|.. classN\n",
    "> classO .. classP\n",
    "> ```\n"
   ]
  },
  {
   "cell_type": "code",
   "execution_count": null,
   "metadata": {
    "dotnet_interactive": {
     "language": "mermaid"
    },
    "polyglot_notebook": {
     "kernelName": "mermaid"
    }
   },
   "outputs": [],
   "source": [
    "classDiagram\n",
    "classA <|-- classB\n",
    "classC *-- classD\n",
    "classE o-- classF\n",
    "classG <-- classH\n",
    "classI -- classJ\n",
    "classK <.. classL\n",
    "classM <|.. classN\n",
    "classO .. classP\n"
   ]
  },
  {
   "cell_type": "markdown",
   "metadata": {},
   "source": [
    "เราสามารถกำหนดชื่อให้กับลูกศรได้\n",
    "\n"
   ]
  },
  {
   "cell_type": "markdown",
   "metadata": {},
   "source": [
    "เขียน code ต่อไปนี้ลงใน code cell โดยกำหนดภาษาเป็น mermaid แล้วรันเพื่อดูผลที่ได้\n",
    "> ```diff\n",
    "> classDiagram\n",
    "> classA --|> classB : Inheritance\n",
    "> classC --* classD : Composition\n",
    "> classE --o classF : Aggregation\n",
    "> classG --> classH : Association\n",
    "> classI -- classJ : Link(Solid)\n",
    "> classK ..> classL : Dependency\n",
    "> classM ..|> classN : Realization\n",
    "> classO .. classP : Link(Dashed)\n",
    "> ```"
   ]
  },
  {
   "cell_type": "markdown",
   "metadata": {},
   "source": [
    "ห"
   ]
  },
  {
   "cell_type": "code",
   "execution_count": null,
   "metadata": {
    "dotnet_interactive": {
     "language": "mermaid"
    },
    "polyglot_notebook": {
     "kernelName": "mermaid"
    }
   },
   "outputs": [],
   "source": [
    "classDiagram\n",
    "classA <|-- classB : Inheritance\n",
    "classC *-- classD : Composition\n",
    "classE o-- classF : Aggregation\n",
    "classG <-- classH : Association\n",
    "classI -- classJ : Link(Solid)\n",
    "classK <.. classL : Dependency\n",
    "classM <|.. classN : Realization\n",
    "classO .. classP : Link(Dashed)"
   ]
  },
  {
   "cell_type": "markdown",
   "metadata": {},
   "source": [
    "---"
   ]
  },
  {
   "cell_type": "markdown",
   "metadata": {},
   "source": [
    "### Cardinality / Multiplicity on relations"
   ]
  },
  {
   "cell_type": "markdown",
   "metadata": {},
   "source": [
    "รูปแบบต่างๆ ของ Cardinality\n",
    "\n",
    "|Symbol|Description|\n",
    "|:----:|----|\n",
    "|1 |Only 1|\n",
    "|0..1 |Zero or One|\n",
    "|1..* |One or more|\n",
    "|* |Many|\n",
    "|n |n (where n>1)|\n",
    "|0..n |zero to n (where n>1)|\n",
    "|1..n |one to n (where n>1)|"
   ]
  },
  {
   "cell_type": "markdown",
   "metadata": {},
   "source": [
    "วิธีการระบุ cardilanity\n",
    "\n",
    "`[classA] \"cardinality1\" [Arrow] \"cardinality2\" [ClassB]:LabelText`"
   ]
  },
  {
   "cell_type": "markdown",
   "metadata": {},
   "source": [
    "เขียน code ต่อไปนี้ลงใน mermaid code cell แล้วรันเพื่อดูผลลัพธ์\n",
    ">```diff\n",
    ">classDiagram\n",
    ">    Customer \"1\" --> \"*\" Ticket \n",
    ">    Student \"1\" --> \"1..*\" Course \n",
    ">    Galaxy --> \"many\" Star\n",
    ">``` "
   ]
  },
  {
   "cell_type": "code",
   "execution_count": null,
   "metadata": {
    "dotnet_interactive": {
     "language": "mermaid"
    },
    "polyglot_notebook": {
     "kernelName": "mermaid"
    }
   },
   "outputs": [],
   "source": [
    "classDiagram\n",
    "Customer \"1\" --> \"*\" Ticket\n",
    "Student \"1\" --> \"1..*\" Course\n",
    "Galaxy --> \"many\" Star"
   ]
  },
  {
   "cell_type": "markdown",
   "metadata": {},
   "source": [
    "ปรับปรุง code ด้านบน แล้วรันเพื่อดูผลลัพธ์\n",
    ">```diff\n",
    ">classDiagram\n",
    ">-    Customer \"1\" --> \"*\" Ticket \n",
    ">+    Customer \"1\" --> \"*\" Ticket : Buy\n",
    ">-    Student \"1\" --> \"1..*\" Course \n",
    ">+    Student \"1\" --> \"1..*\" Course : Register\n",
    ">-    Galaxy --> \"many\" Star\n",
    ">+    Galaxy --> \"many\" Star : Contains\n",
    ">```"
   ]
  },
  {
   "cell_type": "code",
   "execution_count": null,
   "metadata": {
    "dotnet_interactive": {
     "language": "mermaid"
    },
    "polyglot_notebook": {
     "kernelName": "mermaid"
    }
   },
   "outputs": [],
   "source": [
    "classDiagram\n",
    "Customer \"1\" --> \"*\" Ticket : Buy\n",
    "Student \"1\" --> \"1..*\" Course : Register\n",
    "Galaxy --> \"many\" Star : Contains"
   ]
  },
  {
   "cell_type": "markdown",
   "metadata": {},
   "source": [
    "## แบบฝึดหัด\n",
    "\n",
    "1. ให้ค้นหา class diagram จาก internet มา 3 ภาพ ที่วาดขึ้นโดยโปรแกรมอื่นที่ไม่ใช่ mermaid  โดยมีองค์ประกอบในไดอะแกรมไม่น้อยกว่า 5 ชิ้นส่วน  \n",
    "2. เขียน code ในภาษา mermaid diagram เพื่อวาดตามไดอะแกรมนั้น\n",
    "3. นำภาพที่ได้เทียบกับต้นฉบับ โดย capture เป็น png แล้วแนบลิ้งค์มาในไฟล์ ipynb นี้ (อย่าวางภาพลงไปโดยการ copy & paste เนื่องจากจะทำให้ไฟล์ ipynb มีขนาดที่โตเกินไป)\n"
   ]
  },
  {
   "cell_type": "markdown",
   "metadata": {},
   "source": [
    "## 1. ให้ค้นหา class diagram จาก internet มา 3 ภาพ ที่วาดขึ้นโดยโปรแกรมอื่นที่ไม่ใช่ mermaid  โดยมีองค์ประกอบในไดอะแกรมไม่น้อยกว่า 5 ชิ้นส่วน  "
   ]
  },
  {
   "cell_type": "markdown",
   "metadata": {},
   "source": [
    "![Image](Picture/pic5.png)\n",
    "![Image](Picture/pic6.png)\n",
    "![Image](Picture/pic7.png)"
   ]
  },
  {
   "cell_type": "markdown",
   "metadata": {},
   "source": [
    "## 2. เขียน code ในภาษา mermaid diagram เพื่อวาดตามไดอะแกรมนั้น"
   ]
  },
  {
   "cell_type": "code",
   "execution_count": null,
   "metadata": {
    "dotnet_interactive": {
     "language": "mermaid"
    },
    "polyglot_notebook": {
     "kernelName": "mermaid"
    }
   },
   "outputs": [
    {
     "data": {
      "text/html": [
       "<div class=\"mermaidMarkdownContainer\" style=\"background-color:white\">\n",
       "<link rel=\"stylesheet\" href=\"https://cdnjs.cloudflare.com/ajax/libs/font-awesome/6.2.0/css/all.min.css\">\n",
       "<div id=\"aaaaf83f8d314e48b628c8a4bfbeb9ee\"></div>\n",
       "<script type=\"module\">\n",
       "\r\n",
       "            import mermaid from 'https://cdn.jsdelivr.net/npm/mermaid@10.6.1/dist/mermaid.esm.min.mjs';\r\n",
       "            let renderTarget = document.getElementById('aaaaf83f8d314e48b628c8a4bfbeb9ee');\r\n",
       "            try {\r\n",
       "                const {svg, bindFunctions} = await mermaid.mermaidAPI.render( \r\n",
       "                    'mermaid_aaaaf83f8d314e48b628c8a4bfbeb9ee', \r\n",
       "                    `classDiagram\n",
       "    class Classroom {\n",
       "    }\n",
       "    class Whiteboard {\n",
       "    }\n",
       "    class Table {\n",
       "    }\n",
       "    class Chair {\n",
       "    }\n",
       "    class Student {\n",
       "    }\n",
       "    class Teacher {\n",
       "    }\n",
       "\n",
       "    Classroom o-- Whiteboard\n",
       "    Classroom o-- Table\n",
       "    Classroom o-- Chair \n",
       "    Classroom o-- Student\n",
       "    Classroom o-- Teacher\n",
       "`);\r\n",
       "                renderTarget.innerHTML = svg;\r\n",
       "                bindFunctions?.(renderTarget);\r\n",
       "            }\r\n",
       "            catch (error) {\r\n",
       "                console.log(error);\r\n",
       "            }\n",
       "</script>\n",
       "</div>\n"
      ]
     },
     "metadata": {},
     "output_type": "display_data"
    }
   ],
   "source": [
    "classDiagram\n",
    "    class Classroom {\n",
    "    }\n",
    "    class Whiteboard {\n",
    "    }\n",
    "    class Table {\n",
    "    }\n",
    "    class Chair {\n",
    "    }\n",
    "    class Student {\n",
    "    }\n",
    "    class Teacher {\n",
    "    }\n",
    "\n",
    "    Classroom o-- Whiteboard\n",
    "    Classroom o-- Table\n",
    "    Classroom o-- Chair \n",
    "    Classroom o-- Student\n",
    "    Classroom o-- Teacher\n"
   ]
  },
  {
   "cell_type": "code",
   "execution_count": null,
   "metadata": {
    "dotnet_interactive": {
     "language": "mermaid"
    },
    "polyglot_notebook": {
     "kernelName": "mermaid"
    }
   },
   "outputs": [
    {
     "data": {
      "text/html": [
       "<div class=\"mermaidMarkdownContainer\" style=\"background-color:white\">\n",
       "<link rel=\"stylesheet\" href=\"https://cdnjs.cloudflare.com/ajax/libs/font-awesome/6.2.0/css/all.min.css\">\n",
       "<div id=\"958a5ec8b63547dba6423d941dd49ef9\"></div>\n",
       "<script type=\"module\">\n",
       "\r\n",
       "            import mermaid from 'https://cdn.jsdelivr.net/npm/mermaid@10.6.1/dist/mermaid.esm.min.mjs';\r\n",
       "            let renderTarget = document.getElementById('958a5ec8b63547dba6423d941dd49ef9');\r\n",
       "            try {\r\n",
       "                const {svg, bindFunctions} = await mermaid.mermaidAPI.render( \r\n",
       "                    'mermaid_958a5ec8b63547dba6423d941dd49ef9', \r\n",
       "                    `classDiagram\n",
       "    class Car {\n",
       "    }\n",
       "    class Engine {\n",
       "    }\n",
       "    class Door {\n",
       "    }\n",
       "    class Wheel {\n",
       "    }\n",
       "    class AirConditioner {\n",
       "    }\n",
       "\n",
       "    Car \"1..1\" o-- Engine : เครื่องยนต์\n",
       "    Car \"2..4\" o-- Door : ประตู\n",
       "    Car \"4..4\" o-- Wheel : ล้อ\n",
       "    Car \"0..1\" o-- AirConditioner : เครื่องปรับอากาศ\n",
       "`);\r\n",
       "                renderTarget.innerHTML = svg;\r\n",
       "                bindFunctions?.(renderTarget);\r\n",
       "            }\r\n",
       "            catch (error) {\r\n",
       "                console.log(error);\r\n",
       "            }\n",
       "</script>\n",
       "</div>\n"
      ]
     },
     "metadata": {},
     "output_type": "display_data"
    }
   ],
   "source": [
    "classDiagram\n",
    "    class Car {\n",
    "    }\n",
    "    class Engine {\n",
    "    }\n",
    "    class Door {\n",
    "    }\n",
    "    class Wheel {\n",
    "    }\n",
    "    class AirConditioner {\n",
    "    }\n",
    "\n",
    "    Car \"1..1\" o-- Engine \n",
    "    Car \"2..4\" o-- Door \n",
    "    Car \"4..4\" o-- Wheel \n",
    "    Car \"0..1\" o-- AirConditioner \n"
   ]
  },
  {
   "cell_type": "code",
   "execution_count": null,
   "metadata": {
    "dotnet_interactive": {
     "language": "mermaid"
    },
    "polyglot_notebook": {
     "kernelName": "mermaid"
    }
   },
   "outputs": [
    {
     "data": {
      "text/html": [
       "<div class=\"mermaidMarkdownContainer\" style=\"background-color:white\">\n",
       "<link rel=\"stylesheet\" href=\"https://cdnjs.cloudflare.com/ajax/libs/font-awesome/6.2.0/css/all.min.css\">\n",
       "<div id=\"b1b76996bb7c4c55b8c867d0faf1877a\"></div>\n",
       "<script type=\"module\">\n",
       "\r\n",
       "            import mermaid from 'https://cdn.jsdelivr.net/npm/mermaid@10.6.1/dist/mermaid.esm.min.mjs';\r\n",
       "            let renderTarget = document.getElementById('b1b76996bb7c4c55b8c867d0faf1877a');\r\n",
       "            try {\r\n",
       "                const {svg, bindFunctions} = await mermaid.mermaidAPI.render( \r\n",
       "                    'mermaid_b1b76996bb7c4c55b8c867d0faf1877a', \r\n",
       "                    `classDiagram\n",
       "    class Mammal {\n",
       "        +color\n",
       "        -age\n",
       "        -gender\n",
       "        +eat()\n",
       "        +move()\n",
       "    }\n",
       "    class Dogs {\n",
       "    }\n",
       "    class Cats {\n",
       "    }\n",
       "    class Horses {\n",
       "    }\n",
       "    class Platypuses {\n",
       "    }\n",
       "    class Kangaroos {\n",
       "    }\n",
       "    class Dolphins {\n",
       "    }\n",
       "    class Whales {\n",
       "    }\n",
       "\n",
       "    Mammal <|-- Dogs\n",
       "    Mammal <|-- Cats\n",
       "    Mammal <|-- Horses\n",
       "    Mammal <|-- Platypuses\n",
       "    Mammal <|-- Kangaroos\n",
       "    Mammal <|-- Dolphins\n",
       "    Mammal <|-- Whales\n",
       "`);\r\n",
       "                renderTarget.innerHTML = svg;\r\n",
       "                bindFunctions?.(renderTarget);\r\n",
       "            }\r\n",
       "            catch (error) {\r\n",
       "                console.log(error);\r\n",
       "            }\n",
       "</script>\n",
       "</div>\n"
      ]
     },
     "metadata": {},
     "output_type": "display_data"
    }
   ],
   "source": [
    "classDiagram\n",
    "    class Mammal {\n",
    "        +color\n",
    "        -age\n",
    "        -gender\n",
    "        +eat()\n",
    "        +move()\n",
    "    }\n",
    "    class Dogs {\n",
    "    }\n",
    "    class Cats {\n",
    "    }\n",
    "    class Horses {\n",
    "    }\n",
    "    class Platypuses {\n",
    "    }\n",
    "    class Kangaroos {\n",
    "    }\n",
    "    class Dolphins {\n",
    "    }\n",
    "    class Whales {\n",
    "    }\n",
    "\n",
    "    Mammal <|-- Dogs\n",
    "    Mammal <|-- Cats\n",
    "    Mammal <|-- Horses\n",
    "    Mammal <|-- Platypuses\n",
    "    Mammal <|-- Kangaroos\n",
    "    Mammal <|-- Dolphins\n",
    "    Mammal <|-- Whales\n"
   ]
  },
  {
   "cell_type": "markdown",
   "metadata": {},
   "source": [
    "## 3. นำภาพที่ได้เทียบกับต้นฉบับ โดย capture เป็น png แล้วแนบลิ้งค์มาในไฟล์ ipynb นี้ (อย่าวางภาพลงไปโดยการ copy & paste เนื่องจากจะทำให้ไฟล์ ipynb มีขนาดที่โตเกินไป)"
   ]
  },
  {
   "cell_type": "markdown",
   "metadata": {},
   "source": [
    "![Image](Picture/pic5.png)\n",
    "\n",
    "![Image](Picture/pic8.png)\n",
    "\n",
    "\n",
    "![Image](Picture/pic7.png)\n",
    "\n",
    "\n",
    "![Image](Picture/pic10.png)\n",
    "\n",
    "![Image](Picture/pic6.png)\n",
    "\n",
    "![Image](Picture/pic9.png)\n",
    "\n"
   ]
  }
 ],
 "metadata": {
  "kernelspec": {
   "display_name": ".NET (C#)",
   "language": "C#",
   "name": ".net-csharp"
  },
  "polyglot_notebook": {
   "kernelInfo": {
    "defaultKernelName": "mermaid",
    "items": [
     {
      "aliases": [],
      "languageName": "mermaid",
      "name": "mermaid"
     }
    ]
   }
  }
 },
 "nbformat": 4,
 "nbformat_minor": 2
}
