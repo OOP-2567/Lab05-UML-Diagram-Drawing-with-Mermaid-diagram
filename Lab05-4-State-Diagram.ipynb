{
 "cells": [
  {
   "cell_type": "markdown",
   "metadata": {
    "dotnet_interactive": {
     "language": "csharp"
    },
    "polyglot_notebook": {
     "kernelName": "csharp"
    }
   },
   "source": [
    "# Lab 5.4 การวาด State diagram "
   ]
  },
  {
   "cell_type": "markdown",
   "metadata": {},
   "source": [
    "## แนวทางการศึกษา\n",
    "\n",
    "ให้ศึกษารูปแบบและวิธีการเขียน mermaid diagram เพื่อวาด state diagram จาก เว็บเพจนี้\n",
    "\n",
    "https://mermaid.js.org/syntax/stateDiagram.html\n"
   ]
  },
  {
   "cell_type": "markdown",
   "metadata": {},
   "source": [
    "## แบบฝึดหัด\n",
    "\n",
    "1. ให้ค้นหา state diagram จาก internet มา 3 ภาพ ที่วาดขึ้นโดยโปรแกรมอื่นที่ไม่ใช่ mermaid  โดยมีองค์ประกอบในไดอะแกรมไม่น้อยกว่า 5 ชิ้นส่วน  \n",
    "2. เขียน code ในภาษา mermaid diagram เพื่อวาดตามไดอะแกรมนั้น\n",
    "3. นำภาพที่ได้เทียบกับต้นฉบับ โดย capture เป็น png แล้วแนบลิ้งค์มาในไฟล์ ipynb นี้ (อย่าวางภาพลงไปโดยการ copy & paste เนื่องจากจะทำให้ไฟล์ ipynb มีขนาดที่โตเกินไป)\n"
   ]
  },
  {
   "cell_type": "markdown",
   "metadata": {},
   "source": [
    "## 1. ให้ค้นหา state diagram จาก internet มา 3 ภาพ ที่วาดขึ้นโดยโปรแกรมอื่นที่ไม่ใช่ mermaid  โดยมีองค์ประกอบในไดอะแกรมไม่น้อยกว่า 5 ชิ้นส่วน  "
   ]
  },
  {
   "cell_type": "markdown",
   "metadata": {},
   "source": [
    "![Image](Picture/pic17.png)\n",
    "![Image](Picture/pic18.png)\n",
    "![Image](Picture/pic19.png)\n"
   ]
  },
  {
   "cell_type": "markdown",
   "metadata": {},
   "source": [
    "## 2. เขียน code ในภาษา mermaid diagram เพื่อวาดตามไดอะแกรมนั้น"
   ]
  },
  {
   "cell_type": "code",
   "execution_count": null,
   "metadata": {
    "dotnet_interactive": {
     "language": "mermaid"
    },
    "polyglot_notebook": {
     "kernelName": "mermaid"
    }
   },
   "outputs": [
    {
     "data": {
      "text/html": [
       "<div class=\"mermaidMarkdownContainer\" style=\"background-color:white\">\n",
       "<link rel=\"stylesheet\" href=\"https://cdnjs.cloudflare.com/ajax/libs/font-awesome/6.2.0/css/all.min.css\">\n",
       "<div id=\"17ec1ebdf21541d6a2f8638376e39034\"></div>\n",
       "<script type=\"module\">\n",
       "\r\n",
       "            import mermaid from 'https://cdn.jsdelivr.net/npm/mermaid@10.6.1/dist/mermaid.esm.min.mjs';\r\n",
       "            let renderTarget = document.getElementById('17ec1ebdf21541d6a2f8638376e39034');\r\n",
       "            try {\r\n",
       "                const {svg, bindFunctions} = await mermaid.mermaidAPI.render( \r\n",
       "                    'mermaid_17ec1ebdf21541d6a2f8638376e39034', \r\n",
       "                    `stateDiagram-v2\n",
       "    [*] --> in_stock\n",
       "    in_stock --> checked_in : check in\n",
       "    checked_in --> checked_out : check out\n",
       "    checked_out --> lost : write off\n",
       "    checked_out --> checked_in : check in\n",
       "    lost --> [*]\n",
       "`);\r\n",
       "                renderTarget.innerHTML = svg;\r\n",
       "                bindFunctions?.(renderTarget);\r\n",
       "            }\r\n",
       "            catch (error) {\r\n",
       "                console.log(error);\r\n",
       "            }\n",
       "</script>\n",
       "</div>\n"
      ]
     },
     "metadata": {},
     "output_type": "display_data"
    }
   ],
   "source": [
    "stateDiagram-v2\n",
    "    [*] --> in_stock\n",
    "    in_stock --> checked_in : check in\n",
    "    checked_in --> checked_out : check out\n",
    "    checked_out --> lost : write off\n",
    "    checked_out --> checked_in : check in\n",
    "    lost --> [*]\n"
   ]
  },
  {
   "cell_type": "code",
   "execution_count": null,
   "metadata": {
    "dotnet_interactive": {
     "language": "mermaid"
    },
    "polyglot_notebook": {
     "kernelName": "mermaid"
    }
   },
   "outputs": [
    {
     "data": {
      "text/html": [
       "<div class=\"mermaidMarkdownContainer\" style=\"background-color:white\">\n",
       "<link rel=\"stylesheet\" href=\"https://cdnjs.cloudflare.com/ajax/libs/font-awesome/6.2.0/css/all.min.css\">\n",
       "<div id=\"269245e389ae47ccafad3c8ed79f2d0e\"></div>\n",
       "<script type=\"module\">\n",
       "\r\n",
       "            import mermaid from 'https://cdn.jsdelivr.net/npm/mermaid@10.6.1/dist/mermaid.esm.min.mjs';\r\n",
       "            let renderTarget = document.getElementById('269245e389ae47ccafad3c8ed79f2d0e');\r\n",
       "            try {\r\n",
       "                const {svg, bindFunctions} = await mermaid.mermaidAPI.render( \r\n",
       "                    'mermaid_269245e389ae47ccafad3c8ed79f2d0e', \r\n",
       "                    `stateDiagram-v2\n",
       "    [*] --> Off\n",
       "    Off --> Idle : turn on / startup\n",
       "    Idle --> Servicing : cardInserted\n",
       "    Servicing --> Idle : cancel\n",
       "    Idle --> Maintenance : service\n",
       "    Maintenance --> Out_of_Service : failure\n",
       "    Out_of_Service --> Maintenance : service\n",
       "    Maintenance --> Idle : service\n",
       "    Idle --> Off : turn off / shutdown\n",
       "    Off --> [*] : turn off / shutdown\n",
       "`);\r\n",
       "                renderTarget.innerHTML = svg;\r\n",
       "                bindFunctions?.(renderTarget);\r\n",
       "            }\r\n",
       "            catch (error) {\r\n",
       "                console.log(error);\r\n",
       "            }\n",
       "</script>\n",
       "</div>\n"
      ]
     },
     "metadata": {},
     "output_type": "display_data"
    }
   ],
   "source": [
    "stateDiagram-v2\n",
    "    [*] --> Off\n",
    "    Off --> Idle : turn on / startup\n",
    "    Idle --> Servicing : cardInserted\n",
    "    Servicing --> Idle : cancel\n",
    "    Idle --> Maintenance : service\n",
    "    Maintenance --> Out_of_Service : failure\n",
    "    Out_of_Service --> Maintenance : service\n",
    "    Maintenance --> Idle : service\n",
    "    Idle --> Off : turn off / shutdown\n",
    "    Off --> [*] : turn off / shutdown\n"
   ]
  },
  {
   "cell_type": "code",
   "execution_count": null,
   "metadata": {
    "dotnet_interactive": {
     "language": "mermaid"
    },
    "polyglot_notebook": {
     "kernelName": "mermaid"
    }
   },
   "outputs": [
    {
     "data": {
      "text/html": [
       "<div class=\"mermaidMarkdownContainer\" style=\"background-color:white\">\n",
       "<link rel=\"stylesheet\" href=\"https://cdnjs.cloudflare.com/ajax/libs/font-awesome/6.2.0/css/all.min.css\">\n",
       "<div id=\"df1fdca5d28e4bb0ab3cfb5c8aa99936\"></div>\n",
       "<script type=\"module\">\n",
       "\r\n",
       "            import mermaid from 'https://cdn.jsdelivr.net/npm/mermaid@10.6.1/dist/mermaid.esm.min.mjs';\r\n",
       "            let renderTarget = document.getElementById('df1fdca5d28e4bb0ab3cfb5c8aa99936');\r\n",
       "            try {\r\n",
       "                const {svg, bindFunctions} = await mermaid.mermaidAPI.render( \r\n",
       "                    'mermaid_df1fdca5d28e4bb0ab3cfb5c8aa99936', \r\n",
       "                    `stateDiagram-v2\n",
       "    [*] --> Login\n",
       "    Login --> ValidateLogin : enterButton_onclick\n",
       "    ValidateLogin --> Error : !loginOK\n",
       "    ValidateLogin --> ShopPresentation : loginOK\n",
       "    ShopPresentation --> Categories : enterButton_onclick\n",
       "    Categories --> Products : categoryList_onclick\n",
       "    Products --> Categories : backButton_onclick\n",
       "    Categories --> ShopEnding : buyButton_onclick\n",
       "    ShopEnding --> [*]\n",
       "`);\r\n",
       "                renderTarget.innerHTML = svg;\r\n",
       "                bindFunctions?.(renderTarget);\r\n",
       "            }\r\n",
       "            catch (error) {\r\n",
       "                console.log(error);\r\n",
       "            }\n",
       "</script>\n",
       "</div>\n"
      ]
     },
     "metadata": {},
     "output_type": "display_data"
    }
   ],
   "source": [
    "stateDiagram-v2\n",
    "    [*] --> Login\n",
    "    Login --> ValidateLogin : enterButton_onclick\n",
    "    ValidateLogin --> Error : !loginOK\n",
    "    ValidateLogin --> ShopPresentation : loginOK\n",
    "    ShopPresentation --> Categories : enterButton_onclick\n",
    "    Categories --> Products : categoryList_onclick\n",
    "    Products --> Categories : backButton_onclick\n",
    "    Categories --> ShopEnding : buyButton_onclick\n",
    "    ShopEnding --> [*]\n"
   ]
  },
  {
   "cell_type": "markdown",
   "metadata": {},
   "source": [
    "## 3. นำภาพที่ได้เทียบกับต้นฉบับ โดย capture เป็น png แล้วแนบลิ้งค์มาในไฟล์ ipynb นี้ (อย่าวางภาพลงไปโดยการ copy & paste เนื่องจากจะทำให้ไฟล์ ipynb มีขนาดที่โตเกินไป)"
   ]
  },
  {
   "cell_type": "markdown",
   "metadata": {},
   "source": [
    "![Image](Picture/pic17.png)\n",
    "![Image](Picture/pic20.png)\n",
    "![Image](Picture/pic18.png)\n",
    "![Image](Picture/pic21.png)\n",
    "![Image](Picture/pic19.png)\n",
    "![Image](Picture/pic22.png)"
   ]
  }
 ],
 "metadata": {
  "kernelspec": {
   "display_name": ".NET (C#)",
   "language": "C#",
   "name": ".net-csharp"
  },
  "polyglot_notebook": {
   "kernelInfo": {
    "defaultKernelName": "csharp",
    "items": [
     {
      "aliases": [],
      "languageName": "csharp",
      "name": "csharp"
     }
    ]
   }
  }
 },
 "nbformat": 4,
 "nbformat_minor": 2
}
