{
 "cells": [
  {
   "cell_type": "markdown",
   "metadata": {
    "dotnet_interactive": {
     "language": "csharp"
    },
    "polyglot_notebook": {
     "kernelName": "csharp"
    }
   },
   "source": [
    "# Lab 5.4 การวาด State diagram "
   ]
  },
  {
   "cell_type": "markdown",
   "metadata": {},
   "source": [
    "## แนวทางการศึกษา\n",
    "\n",
    "ให้ศึกษารูปแบบและวิธีการเขียน mermaid diagram เพื่อวาด state diagram จาก เว็บเพจนี้\n",
    "\n",
    "https://mermaid.js.org/syntax/stateDiagram.html\n"
   ]
  },
  {
   "cell_type": "markdown",
   "metadata": {},
   "source": [
    "## แบบฝึดหัด\n",
    "\n",
    "1. ให้ค้นหา state diagram จาก internet มา 3 ภาพ ที่วาดขึ้นโดยโปรแกรมอื่นที่ไม่ใช่ mermaid  โดยมีองค์ประกอบในไดอะแกรมไม่น้อยกว่า 5 ชิ้นส่วน  \n",
    "2. เขียน code ในภาษา mermaid diagram เพื่อวาดตามไดอะแกรมนั้น\n",
    "3. นำภาพที่ได้เทียบกับต้นฉบับ โดย capture เป็น png แล้วแนบลิ้งค์มาในไฟล์ ipynb นี้ (อย่าวางภาพลงไปโดยการ copy & paste เนื่องจากจะทำให้ไฟล์ ipynb มีขนาดที่โตเกินไป)\n"
   ]
  },
  {
   "cell_type": "code",
   "execution_count": null,
   "metadata": {
    "dotnet_interactive": {
     "language": "mermaid"
    },
    "polyglot_notebook": {
     "kernelName": "mermaid"
    }
   },
   "outputs": [
    {
     "data": {
      "text/html": [
       "<div class=\"mermaidMarkdownContainer\" style=\"background-color:white\">\r\n",
       "<link rel=\"stylesheet\" href=\"https://cdnjs.cloudflare.com/ajax/libs/font-awesome/6.2.0/css/all.min.css\">\r\n",
       "<div id=\"936c2880ab6c48dfbab530ebbbdaf5be\"></div>\r\n",
       "<script type=\"module\">\r\n",
       "\r\n",
       "            import mermaid from 'https://cdn.jsdelivr.net/npm/mermaid@10.6.1/dist/mermaid.esm.min.mjs';\r\n",
       "            let renderTarget = document.getElementById('936c2880ab6c48dfbab530ebbbdaf5be');\r\n",
       "            try {\r\n",
       "                const {svg, bindFunctions} = await mermaid.mermaidAPI.render( \r\n",
       "                    'mermaid_936c2880ab6c48dfbab530ebbbdaf5be', \r\n",
       "                    `stateDiagram-v2\n",
       "[*] --> Idle\n",
       "Idle --> Selecting : Insert Coin\n",
       "Selecting --> Dispensing : Select Product\n",
       "Dispensing --> Idle : Dispense Product\n",
       "Dispensing --> OutOfStock : Out of Stock\n",
       "OutOfStock --> Idle : Reset Stock`);\r\n",
       "                renderTarget.innerHTML = svg;\r\n",
       "                bindFunctions?.(renderTarget);\r\n",
       "            }\r\n",
       "            catch (error) {\r\n",
       "                console.log(error);\r\n",
       "            }\r\n",
       "</script>\r\n",
       "</div>\r\n"
      ]
     },
     "metadata": {},
     "output_type": "display_data"
    }
   ],
   "source": [
    "stateDiagram-v2\n",
    "[*] --> Idle\n",
    "Idle --> Selecting : Insert Coin\n",
    "Selecting --> Dispensing : Select Product\n",
    "Dispensing --> Idle : Dispense Product\n",
    "Dispensing --> OutOfStock : Out of Stock\n",
    "OutOfStock --> Idle : Reset Stock"
   ]
  },
  {
   "cell_type": "code",
   "execution_count": null,
   "metadata": {
    "dotnet_interactive": {
     "language": "mermaid"
    },
    "polyglot_notebook": {
     "kernelName": "mermaid"
    }
   },
   "outputs": [
    {
     "data": {
      "text/html": [
       "<div class=\"mermaidMarkdownContainer\" style=\"background-color:white\">\r\n",
       "<link rel=\"stylesheet\" href=\"https://cdnjs.cloudflare.com/ajax/libs/font-awesome/6.2.0/css/all.min.css\">\r\n",
       "<div id=\"3eb0184c50ab482f8aff8626291bcd6b\"></div>\r\n",
       "<script type=\"module\">\r\n",
       "\r\n",
       "            import mermaid from 'https://cdn.jsdelivr.net/npm/mermaid@10.6.1/dist/mermaid.esm.min.mjs';\r\n",
       "            let renderTarget = document.getElementById('3eb0184c50ab482f8aff8626291bcd6b');\r\n",
       "            try {\r\n",
       "                const {svg, bindFunctions} = await mermaid.mermaidAPI.render( \r\n",
       "                    'mermaid_3eb0184c50ab482f8aff8626291bcd6b', \r\n",
       "                    `stateDiagram-v2\n",
       "    [*] --> LoggedOut\n",
       "    LoggedOut --> LoggingIn : Enter Credentials\n",
       "    LoggingIn --> LoggedIn : Credentials Verified\n",
       "    LoggingIn --> Error : Verification Failed\n",
       "    Error --> LoggedOut : Retry\n",
       "    LoggedIn --> LoggedOut : Logout`);\r\n",
       "                renderTarget.innerHTML = svg;\r\n",
       "                bindFunctions?.(renderTarget);\r\n",
       "            }\r\n",
       "            catch (error) {\r\n",
       "                console.log(error);\r\n",
       "            }\r\n",
       "</script>\r\n",
       "</div>\r\n"
      ]
     },
     "metadata": {},
     "output_type": "display_data"
    }
   ],
   "source": [
    "stateDiagram-v2\n",
    "    [*] --> LoggedOut\n",
    "    LoggedOut --> LoggingIn : Enter Credentials\n",
    "    LoggingIn --> LoggedIn : Credentials Verified\n",
    "    LoggingIn --> Error : Verification Failed\n",
    "    Error --> LoggedOut : Retry\n",
    "    LoggedIn --> LoggedOut : Logout"
   ]
  },
  {
   "cell_type": "code",
   "execution_count": null,
   "metadata": {
    "dotnet_interactive": {
     "language": "mermaid"
    },
    "polyglot_notebook": {
     "kernelName": "mermaid"
    }
   },
   "outputs": [
    {
     "data": {
      "text/html": [
       "<div class=\"mermaidMarkdownContainer\" style=\"background-color:white\">\r\n",
       "<link rel=\"stylesheet\" href=\"https://cdnjs.cloudflare.com/ajax/libs/font-awesome/6.2.0/css/all.min.css\">\r\n",
       "<div id=\"bf9818a02efe4811bf9a8dd3de0c067c\"></div>\r\n",
       "<script type=\"module\">\r\n",
       "\r\n",
       "            import mermaid from 'https://cdn.jsdelivr.net/npm/mermaid@10.6.1/dist/mermaid.esm.min.mjs';\r\n",
       "            let renderTarget = document.getElementById('bf9818a02efe4811bf9a8dd3de0c067c');\r\n",
       "            try {\r\n",
       "                const {svg, bindFunctions} = await mermaid.mermaidAPI.render( \r\n",
       "                    'mermaid_bf9818a02efe4811bf9a8dd3de0c067c', \r\n",
       "                    `stateDiagram-v2\n",
       "[*] --> Red\n",
       "Red --> Green : Timer Expired\n",
       "Green --> Yellow : Timer Expired\n",
       "Yellow --> Red : Timer Expired`);\r\n",
       "                renderTarget.innerHTML = svg;\r\n",
       "                bindFunctions?.(renderTarget);\r\n",
       "            }\r\n",
       "            catch (error) {\r\n",
       "                console.log(error);\r\n",
       "            }\r\n",
       "</script>\r\n",
       "</div>\r\n"
      ]
     },
     "metadata": {},
     "output_type": "display_data"
    }
   ],
   "source": [
    "stateDiagram-v2\n",
    "[*] --> Red\n",
    "Red --> Green : Timer Expired\n",
    "Green --> Yellow : Timer Expired\n",
    "Yellow --> Red : Timer Expired"
   ]
  }
 ],
 "metadata": {
  "kernelspec": {
   "display_name": ".NET (C#)",
   "language": "C#",
   "name": ".net-csharp"
  },
  "polyglot_notebook": {
   "kernelInfo": {
    "defaultKernelName": "csharp",
    "items": [
     {
      "aliases": [],
      "languageName": "csharp",
      "name": "csharp"
     }
    ]
   }
  }
 },
 "nbformat": 4,
 "nbformat_minor": 2
}
