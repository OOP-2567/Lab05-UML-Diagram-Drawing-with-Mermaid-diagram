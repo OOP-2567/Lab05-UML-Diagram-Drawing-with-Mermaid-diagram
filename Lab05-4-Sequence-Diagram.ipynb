{
 "cells": [
  {
   "cell_type": "markdown",
   "metadata": {
    "dotnet_interactive": {
     "language": "csharp"
    },
    "polyglot_notebook": {
     "kernelName": "csharp"
    }
   },
   "source": [
    "# Lab 5.4 การวาด State diagram "
   ]
  },
  {
   "cell_type": "markdown",
   "metadata": {},
   "source": [
    "## แนวทางการศึกษา\n",
    "\n",
    "ให้ศึกษารูปแบบและวิธีการเขียน mermaid diagram เพื่อวาด state diagram จาก เว็บเพจนี้\n",
    "\n",
    "https://mermaid.js.org/syntax/stateDiagram.html\n"
   ]
  },
  {
   "cell_type": "markdown",
   "metadata": {},
   "source": [
    "## แบบฝึดหัด\n",
    "\n",
    "1. ให้ค้นหา state diagram จาก internet มา 3 ภาพ ที่วาดขึ้นโดยโปรแกรมอื่นที่ไม่ใช่ mermaid  โดยมีองค์ประกอบในไดอะแกรมไม่น้อยกว่า 5 ชิ้นส่วน  \n",
    "2. เขียน code ในภาษา mermaid diagram เพื่อวาดตามไดอะแกรมนั้น\n",
    "3. นำภาพที่ได้เทียบกับต้นฉบับ โดย capture เป็น png แล้วแนบลิ้งค์มาในไฟล์ ipynb นี้ (อย่าวางภาพลงไปโดยการ copy & paste เนื่องจากจะทำให้ไฟล์ ipynb มีขนาดที่โตเกินไป)\n"
   ]
  },
  {
   "cell_type": "code",
   "execution_count": null,
   "metadata": {
    "dotnet_interactive": {
     "language": "mermaid"
    },
    "polyglot_notebook": {
     "kernelName": "mermaid"
    }
   },
   "outputs": [
    {
     "data": {
      "text/html": [
       "<div class=\"mermaidMarkdownContainer\" style=\"background-color:white\">\r\n",
       "<link rel=\"stylesheet\" href=\"https://cdnjs.cloudflare.com/ajax/libs/font-awesome/6.2.0/css/all.min.css\">\r\n",
       "<div id=\"f5b6dbbef9da4e0e90937553cd1ad4e8\"></div>\r\n",
       "<script type=\"module\">\r\n",
       "\r\n",
       "            import mermaid from 'https://cdn.jsdelivr.net/npm/mermaid@10.6.1/dist/mermaid.esm.min.mjs';\r\n",
       "            let renderTarget = document.getElementById('f5b6dbbef9da4e0e90937553cd1ad4e8');\r\n",
       "            try {\r\n",
       "                const {svg, bindFunctions} = await mermaid.mermaidAPI.render( \r\n",
       "                    'mermaid_f5b6dbbef9da4e0e90937553cd1ad4e8', \r\n",
       "                    `flowchart TD\r\n",
       "    Start([\"Start\"]) --> Input[/\"Input X\"/]\r\n",
       "    Input --> o1(( ))\r\n",
       "    o1 --> AddSum[\"Sum = Sum + X\"]\r\n",
       "    AddSum --> CheckSum[\"Sum_X <= 100\"]\r\n",
       "    CheckSum -->Condition{{\"X <= 100\"}}\r\n",
       "    Condition --> o2(( ))\r\n",
       "    o2 -->|T| PrintSum\r\n",
       "    o2 -->|F| o1(( ))\r\n",
       "    PrintSum --> End([\"End\"])`);\r\n",
       "                renderTarget.innerHTML = svg;\r\n",
       "                bindFunctions?.(renderTarget);\r\n",
       "            }\r\n",
       "            catch (error) {\r\n",
       "                console.log(error);\r\n",
       "            }\r\n",
       "</script>\r\n",
       "</div>\r\n"
      ]
     },
     "metadata": {},
     "output_type": "display_data"
    }
   ],
   "source": [
    "flowchart TD\n",
    "    Start([\"Start\"]) --> Input[/\"Input X\"/]\n",
    "    Input --> o1(( ))\n",
    "    o1 --> AddSum[\"Sum = Sum + X\"]\n",
    "    AddSum --> CheckSum[\"Sum_X <= 100\"]\n",
    "    CheckSum -->Condition{{\"X <= 100\"}}\n",
    "    Condition --> o2(( ))\n",
    "    o2 -->|T| PrintSum\n",
    "    o2 -->|F| o1(( ))\n",
    "    PrintSum --> End([\"End\"])"
   ]
  },
  {
   "attachments": {
    "3.3.png": {
     "image/png": "[encoded data removed]"
    }
   },
   "cell_type": "markdown",
   "metadata": {},
   "source": [
    "![3.3.png](attachment:3.3.png)"
   ]
  },
  {
   "cell_type": "code",
   "execution_count": null,
   "metadata": {
    "dotnet_interactive": {
     "language": "mermaid"
    },
    "polyglot_notebook": {
     "kernelName": "mermaid"
    }
   },
   "outputs": [
    {
     "data": {
      "text/html": [
       "<div class=\"mermaidMarkdownContainer\" style=\"background-color:white\">\r\n",
       "<link rel=\"stylesheet\" href=\"https://cdnjs.cloudflare.com/ajax/libs/font-awesome/6.2.0/css/all.min.css\">\r\n",
       "<div id=\"ad86b3b4f97e4bb69969bcdfe1811bfe\"></div>\r\n",
       "<script type=\"module\">\r\n",
       "\r\n",
       "            import mermaid from 'https://cdn.jsdelivr.net/npm/mermaid@10.6.1/dist/mermaid.esm.min.mjs';\r\n",
       "            let renderTarget = document.getElementById('ad86b3b4f97e4bb69969bcdfe1811bfe');\r\n",
       "            try {\r\n",
       "                const {svg, bindFunctions} = await mermaid.mermaidAPI.render( \r\n",
       "                    'mermaid_ad86b3b4f97e4bb69969bcdfe1811bfe', \r\n",
       "                    `flowchart TD\r\n",
       "    Start([\"Start\"]) --> Input[/\"Input A\"/]\r\n",
       "    Input --> CheckMod{{\"A mod 2 = 0\"}}\r\n",
       "    CheckMod -->|T| Koo[\"Koo\"]\r\n",
       "    CheckMod -->|F| Kee[\"Kee\"]\r\n",
       "    Koo --> Join[(\" \")]\r\n",
       "    Kee --> Join\r\n",
       "    Join --> End([\"End\"])`);\r\n",
       "                renderTarget.innerHTML = svg;\r\n",
       "                bindFunctions?.(renderTarget);\r\n",
       "            }\r\n",
       "            catch (error) {\r\n",
       "                console.log(error);\r\n",
       "            }\r\n",
       "</script>\r\n",
       "</div>\r\n"
      ]
     },
     "metadata": {},
     "output_type": "display_data"
    }
   ],
   "source": [
    "flowchart TD\n",
    "    Start([\"Start\"]) --> Input[/\"Input A\"/]\n",
    "    Input --> CheckMod{{\"A mod 2 = 0\"}}\n",
    "    CheckMod -->|T| Koo[\"Koo\"]\n",
    "    CheckMod -->|F| Kee[\"Kee\"]\n",
    "    Koo --> Join[(\" \")]\n",
    "    Kee --> Join\n",
    "    Join --> End([\"End\"])"
   ]
  },
  {
   "cell_type": "markdown",
   "metadata": {},
   "source": [
    "![images (1).png](<attachment:images (1).png>)"
   ]
  },
  {
   "cell_type": "code",
   "execution_count": null,
   "metadata": {
    "dotnet_interactive": {
     "language": "mermaid"
    },
    "polyglot_notebook": {
     "kernelName": "mermaid"
    }
   },
   "outputs": [
    {
     "data": {
      "text/html": [
       "<div class=\"mermaidMarkdownContainer\" style=\"background-color:white\">\r\n",
       "<link rel=\"stylesheet\" href=\"https://cdnjs.cloudflare.com/ajax/libs/font-awesome/6.2.0/css/all.min.css\">\r\n",
       "<div id=\"0eea88caf5d14072a33cdcd2ee68e05e\"></div>\r\n",
       "<script type=\"module\">\r\n",
       "\r\n",
       "            import mermaid from 'https://cdn.jsdelivr.net/npm/mermaid@10.6.1/dist/mermaid.esm.min.mjs';\r\n",
       "            let renderTarget = document.getElementById('0eea88caf5d14072a33cdcd2ee68e05e');\r\n",
       "            try {\r\n",
       "                const {svg, bindFunctions} = await mermaid.mermaidAPI.render( \r\n",
       "                    'mermaid_0eea88caf5d14072a33cdcd2ee68e05e', \r\n",
       "                    `flowchart TD\r\n",
       "    Start([\"Start\"]) --> Input[/\"Input x, y\"/]\r\n",
       "    Input --> Process[\"Z = x * y\"]\r\n",
       "    Process --> Print[\"Print Z\"]\r\n",
       "    Print --> End([\"End\"])`);\r\n",
       "                renderTarget.innerHTML = svg;\r\n",
       "                bindFunctions?.(renderTarget);\r\n",
       "            }\r\n",
       "            catch (error) {\r\n",
       "                console.log(error);\r\n",
       "            }\r\n",
       "</script>\r\n",
       "</div>\r\n"
      ]
     },
     "metadata": {},
     "output_type": "display_data"
    }
   ],
   "source": [
    "flowchart TD\n",
    "    Start([\"Start\"]) --> Input[/\"Input x, y\"/]\n",
    "    Input --> Process[\"Z = x * y\"]\n",
    "    Process --> Print[\"Print Z\"]\n",
    "    Print --> End([\"End\"])"
   ]
  },
  {
   "attachments": {
    "1.1.png": {
     "image/png": "[encoded data removed]"
    }
   },
   "cell_type": "markdown",
   "metadata": {},
   "source": [
    "![1.1.png](attachment:1.1.png)"
   ]
  }
 ],
 "metadata": {
  "kernelspec": {
   "display_name": ".NET (C#)",
   "language": "C#",
   "name": ".net-csharp"
  },
  "polyglot_notebook": {
   "kernelInfo": {
    "defaultKernelName": "csharp",
    "items": [
     {
      "aliases": [],
      "languageName": "csharp",
      "name": "csharp"
     }
    ]
   }
  }
 },
 "nbformat": 4,
 "nbformat_minor": 2
}
