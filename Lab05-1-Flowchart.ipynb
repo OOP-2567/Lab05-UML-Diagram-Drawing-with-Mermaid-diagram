{
 "cells": [
  {
   "cell_type": "markdown",
   "metadata": {
    "dotnet_interactive": {
     "language": "csharp"
    },
    "polyglot_notebook": {
     "kernelName": "csharp"
    }
   },
   "source": [
    "# Lab 5.1 การวาด flowchart ด้วย mermaid diagram"
   ]
  },
  {
   "cell_type": "markdown",
   "metadata": {},
   "source": [
    "## 5\n",
    ".1.1 องค์ประกอบต่างๆ ของการวาด flowchart "
   ]
  },
  {
   "cell_type": "markdown",
   "metadata": {},
   "source": [
    "ศึกษาจากตัวอย่างแผนภาพอย่างง่ายต่อไปนี้ โดยการรัน code cell ด้านล่างนี้ (โดยการเข้าไปใน cell แล้วกด Ctrl+Enter) \n",
    "\n",
    "__หมายเหตุ__ นักศึกษาสามารถล้างผลการรันทั้งหมดได้โดยการกดปุ่ม _Clear All Outputs_  ที่ด้านบนของเอกสาร \n"
   ]
  },
  {
   "cell_type": "code",
   "execution_count": null,
   "metadata": {
    "dotnet_interactive": {
     "language": "mermaid"
    },
    "polyglot_notebook": {
     "kernelName": "mermaid"
    }
   },
   "outputs": [
    {
     "data": {
      "text/html": [
       "<div class=\"mermaidMarkdownContainer\" style=\"background-color:white\">\r\n",
       "<link rel=\"stylesheet\" href=\"https://cdnjs.cloudflare.com/ajax/libs/font-awesome/6.2.0/css/all.min.css\">\r\n",
       "<div id=\"e14119536f09403d990100d564943fe6\"></div>\r\n",
       "<script type=\"module\">\r\n",
       "\r\n",
       "            import mermaid from 'https://cdn.jsdelivr.net/npm/mermaid@10.6.1/dist/mermaid.esm.min.mjs';\r\n",
       "            let renderTarget = document.getElementById('e14119536f09403d990100d564943fe6');\r\n",
       "            try {\r\n",
       "                const {svg, bindFunctions} = await mermaid.mermaidAPI.render( \r\n",
       "                    'mermaid_e14119536f09403d990100d564943fe6', \r\n",
       "                    `%% Example 1. Flow chart\n",
       "flowchart TD\n",
       "    A[Start] --> B{Today = Workday}\n",
       "    B -- Yes --> C[Goto school]\n",
       "    B -- No --> D[Goto picnic]\n",
       "    C --> E[Back to home]\n",
       "    D --> E\n",
       "    E --> F[End]`);\r\n",
       "                renderTarget.innerHTML = svg;\r\n",
       "                bindFunctions?.(renderTarget);\r\n",
       "            }\r\n",
       "            catch (error) {\r\n",
       "                console.log(error);\r\n",
       "            }\r\n",
       "</script>\r\n",
       "</div>\r\n"
      ]
     },
     "metadata": {},
     "output_type": "display_data"
    }
   ],
   "source": [
    "%% Example 1. Flow chart\n",
    "flowchart TD\n",
    "    A[Start] --> B{Today = Workday}\n",
    "    B -- Yes --> C[Goto school]\n",
    "    B -- No --> D[Goto picnic]\n",
    "    C --> E[Back to home]\n",
    "    D --> E\n",
    "    E --> F[End]"
   ]
  },
  {
   "cell_type": "code",
   "execution_count": null,
   "metadata": {},
   "outputs": [
    {
     "ename": "Error",
     "evalue": "(1,1): error CS1525: Invalid expression term '%'\r\n(1,2): error CS1525: Invalid expression term '%'\r\n(1,12): error CS1002: ; expected\r\n(1,20): error CS1002: ; expected\r\n(2,11): error CS1002: ; expected\r\n(3,6): error CS0650: Bad array declarator: To declare a managed array the rank specifier precedes the variable's identifier. To declare a fixed size buffer field, use the fixed keyword before the field type.\r\n(3,7): error CS0270: Array size cannot be specified in a variable declaration (try initializing with a 'new' expression)\r\n(3,14): error CS1002: ; expected\r\n(3,16): error CS1525: Invalid expression term '>'\r\n(3,19): error CS1002: ; expected\r\n(3,35): error CS1002: ; expected\r\n(4,10): error CS1002: ; expected\r\n(4,25): error CS1003: Syntax error, ',' expected\r\n(4,32): error CS1002: ; expected\r\n(5,10): error CS1002: ; expected\r\n(5,24): error CS1003: Syntax error, ',' expected\r\n(5,31): error CS1002: ; expected\r\n(6,18): error CS1003: Syntax error, ',' expected\r\n(6,21): error CS1003: Syntax error, ',' expected\r\n(6,26): error CS1002: ; expected\r\n(7,12): error CS1002: ; expected",
     "output_type": "error",
     "traceback": [
      "(1,1): error CS1525: Invalid expression term '%'\r\n",
      "(1,2): error CS1525: Invalid expression term '%'\r\n",
      "(1,12): error CS1002: ; expected\r\n",
      "(1,20): error CS1002: ; expected\r\n",
      "(2,11): error CS1002: ; expected\r\n",
      "(3,6): error CS0650: Bad array declarator: To declare a managed array the rank specifier precedes the variable's identifier. To declare a fixed size buffer field, use the fixed keyword before the field type.\r\n",
      "(3,7): error CS0270: Array size cannot be specified in a variable declaration (try initializing with a 'new' expression)\r\n",
      "(3,14): error CS1002: ; expected\r\n",
      "(3,16): error CS1525: Invalid expression term '>'\r\n",
      "(3,19): error CS1002: ; expected\r\n",
      "(3,35): error CS1002: ; expected\r\n",
      "(4,10): error CS1002: ; expected\r\n",
      "(4,25): error CS1003: Syntax error, ',' expected\r\n",
      "(4,32): error CS1002: ; expected\r\n",
      "(5,10): error CS1002: ; expected\r\n",
      "(5,24): error CS1003: Syntax error, ',' expected\r\n",
      "(5,31): error CS1002: ; expected\r\n",
      "(6,18): error CS1003: Syntax error, ',' expected\r\n",
      "(6,21): error CS1003: Syntax error, ',' expected\r\n",
      "(6,26): error CS1002: ; expected\r\n",
      "(7,12): error CS1002: ; expected"
     ]
    }
   ],
   "source": [
    "%% Example 1. Flow chart\n",
    "flowchart TD\n",
    "    A[Start] --> B{Today = Workday}\n",
    "    B -- Yes --> C[Goto school]\n",
    "    B -- No --> D[Goto picnic]\n",
    "    C --> E[Back to home]\n",
    "    D --> E\n",
    "    E --> F[End]"
   ]
  },
  {
   "cell_type": "markdown",
   "metadata": {},
   "source": [
    "### อธิบาย Code ตามรูปแบบสัญลักษณ์ที่ปรากฏใน code\n",
    "จาก code และรูปที่ได้จากการรัน สามารถอธิบายส่วนต่างๆ ตามไวยากรณ์ได้ดังนี้\n",
    "\n",
    "1. `flowchart TD` ป็นคำสั่งที่ใช้ในการสร้าง แผนภูมิลำดับขั้นตอน (flowchart) ที่มีทิศทางจาก บนลงล่าง (top-down)\n",
    "2. `A[start]` เป็นการกำหนดโหนด A ที่มีลักษณะเป็นกล่องสี่เหลี่ยม มีคำว่า Start อยู่ด้านใน\n",
    "3. `-->` เป็นการระบุว่าลากเส้นลูกศรจากโหนด A ไปโหนด B\n",
    "4. `B{Today = Workday}` เป็นการสร้างโหนด B ซึ่งเป็นบล็อกของการตัดสินใจ\n",
    "5. `-- Yes --> หรือ -- NO -->` เป็นการลากเส้นลูกศรที่มีข้อความ Yes หรือ No กำกับ"
   ]
  },
  {
   "cell_type": "markdown",
   "metadata": {},
   "source": [
    "คักลอก code จากตัวอย่าง Example 1 มาไว้ในพื้นที่แก้ไข code ด้านล่าง แล้วแก้ไข code ตามนี้\n",
    "> ```diff\n",
    "> - flowchart TD\n",
    "> + flowchart LR\n",
    "> ```"
   ]
  },
  {
   "cell_type": "markdown",
   "metadata": {},
   "source": [
    "_หมายเหตุ_ จากคำสั่งด้านบน หมายความว่า ให้ลบบรรทัด flowchart TD แล้วเพิ่ม flowchart LR ที่ตำแหน่งเดิม \n",
    "\n",
    "หมายถึงการแก้ไขบรรทัดนั้นจาก flowchart TD เป็น flowchart LR นั่นเอง\n",
    "\n",
    "ซึ่งเป็นรูปแบบของการระบุการเปลี่ยนแปลงเนื้อหาใน git"
   ]
  },
  {
   "cell_type": "code",
   "execution_count": null,
   "metadata": {
    "dotnet_interactive": {
     "language": "mermaid"
    },
    "polyglot_notebook": {
     "kernelName": "mermaid"
    }
   },
   "outputs": [
    {
     "data": {
      "text/html": [
       "<div class=\"mermaidMarkdownContainer\" style=\"background-color:white\">\r\n",
       "<link rel=\"stylesheet\" href=\"https://cdnjs.cloudflare.com/ajax/libs/font-awesome/6.2.0/css/all.min.css\">\r\n",
       "<div id=\"cf217de0945a428fba90c5f472c66122\"></div>\r\n",
       "<script type=\"module\">\r\n",
       "\r\n",
       "            import mermaid from 'https://cdn.jsdelivr.net/npm/mermaid@10.6.1/dist/mermaid.esm.min.mjs';\r\n",
       "            let renderTarget = document.getElementById('cf217de0945a428fba90c5f472c66122');\r\n",
       "            try {\r\n",
       "                const {svg, bindFunctions} = await mermaid.mermaidAPI.render( \r\n",
       "                    'mermaid_cf217de0945a428fba90c5f472c66122', \r\n",
       "                    `%% Example 1. Flow chart\r\n",
       "flowchart LR\r\n",
       "    A[Start] --> B{Today = Workday}\r\n",
       "    B -- Yes --> C[Goto school]\r\n",
       "    B -- No --> D[Goto picnic]\r\n",
       "    C --> E[Back to home]\r\n",
       "    D --> E\r\n",
       "    E --> F[End]`);\r\n",
       "                renderTarget.innerHTML = svg;\r\n",
       "                bindFunctions?.(renderTarget);\r\n",
       "            }\r\n",
       "            catch (error) {\r\n",
       "                console.log(error);\r\n",
       "            }\r\n",
       "</script>\r\n",
       "</div>\r\n"
      ]
     },
     "metadata": {},
     "output_type": "display_data"
    }
   ],
   "source": [
    "%% Example 1. Flow chart\n",
    "flowchart LR\n",
    "    A[Start] --> B{Today = Workday}\n",
    "    B -- Yes --> C[Goto school]\n",
    "    B -- No --> D[Goto picnic]\n",
    "    C --> E[Back to home]\n",
    "    D --> E\n",
    "    E --> F[End]"
   ]
  },
  {
   "cell_type": "markdown",
   "metadata": {},
   "source": [
    "หมายเหตุ ถ้ารันไม่ได้ หรือมี error เช่นในลักษณะนี้\n",
    "> ```\n",
    "> Error: (1,1): error CS1525: Invalid expression term '%'\n",
    "> (1,2): error CS1525: Invalid expression term '%'\n",
    "> (1,17): error CS1002: ; expected\n",
    "> ```\n",
    "\n",
    "ปัญหาเกิดจากการเลือกภาษาเป็น csharp ให้คลิกเลือกภาษาจากมุมขวาล่างของ code cell โดยเปลี่ยนเป็นภาษา mermaid"
   ]
  },
  {
   "cell_type": "markdown",
   "metadata": {},
   "source": [
    "#### คำถาม\n",
    "\n",
    "1. บรรทัดที่ขึ้นต้นด้วย %% มีการแแสดงผลที่ output หรือไม่ ถ้ามี จะแสดงอย่างไร\n",
    "2. บอกข้อแตกต่างระหว่าง flowchart TD และ flowchart LR\n"
   ]
  },
  {
   "cell_type": "markdown",
   "metadata": {},
   "source": [
    "## ตอบ\n",
    "1. บรรทัดที่ขึ้นต้นด้วย %% ในโค้ด Flowchart นี้ ไม่มีผลต่อการแสดงผล ใน output ที่ได้จากการรันโค้ด %% Example 1. Flow chart เป็นเพียงการใส่ข้อความอธิบายว่าโค้ดนี้เป็นตัวอย่างของ Flowchart เท่านั้น \n",
    "2. ข้อแตกต่างคือ flowchart TD จะได้กราฟเป็นแนวตั้ง ส่วน flowchart LR จะได้กราฟเป็นแนวนอน"
   ]
  },
  {
   "cell_type": "markdown",
   "metadata": {},
   "source": [
    "---"
   ]
  },
  {
   "cell_type": "markdown",
   "metadata": {},
   "source": [
    "## Flowcharts - Basic Syntax"
   ]
  },
  {
   "cell_type": "markdown",
   "metadata": {},
   "source": [
    "#### 1 Node"
   ]
  },
  {
   "cell_type": "markdown",
   "metadata": {},
   "source": [
    "รัน code cell ด้านล่าง เพื่อดูผลที่ได้ และตอบคำถาม"
   ]
  },
  {
   "cell_type": "markdown",
   "metadata": {},
   "source": [
    "_Example 2_"
   ]
  },
  {
   "cell_type": "code",
   "execution_count": null,
   "metadata": {
    "dotnet_interactive": {
     "language": "mermaid"
    },
    "polyglot_notebook": {
     "kernelName": "mermaid"
    }
   },
   "outputs": [
    {
     "data": {
      "text/html": [
       "<div class=\"mermaidMarkdownContainer\" style=\"background-color:white\">\r\n",
       "<link rel=\"stylesheet\" href=\"https://cdnjs.cloudflare.com/ajax/libs/font-awesome/6.2.0/css/all.min.css\">\r\n",
       "<div id=\"fff255c6a8024bc6a5106a248537d0d6\"></div>\r\n",
       "<script type=\"module\">\r\n",
       "\r\n",
       "            import mermaid from 'https://cdn.jsdelivr.net/npm/mermaid@10.6.1/dist/mermaid.esm.min.mjs';\r\n",
       "            let renderTarget = document.getElementById('fff255c6a8024bc6a5106a248537d0d6');\r\n",
       "            try {\r\n",
       "                const {svg, bindFunctions} = await mermaid.mermaidAPI.render( \r\n",
       "                    'mermaid_fff255c6a8024bc6a5106a248537d0d6', \r\n",
       "                    `---\r\n",
       "title: Node\r\n",
       "---\r\n",
       "flowchart LR\r\n",
       "    id`);\r\n",
       "                renderTarget.innerHTML = svg;\r\n",
       "                bindFunctions?.(renderTarget);\r\n",
       "            }\r\n",
       "            catch (error) {\r\n",
       "                console.log(error);\r\n",
       "            }\r\n",
       "</script>\r\n",
       "</div>\r\n"
      ]
     },
     "metadata": {},
     "output_type": "display_data"
    }
   ],
   "source": [
    "---\n",
    "title: Node\n",
    "---\n",
    "flowchart LR\n",
    "    id"
   ]
  },
  {
   "cell_type": "markdown",
   "metadata": {},
   "source": [
    "__คำถาม__\n",
    "\n",
    "1. ข้อความต่อไปนี้คืออะไร มีการแสดงที่ output หรือไม่ \n",
    "> ```\n",
    "> ---\n",
    "> title: Node\n",
    "> ---\n",
    "> ```\n",
    "\n",
    "2. ข้อความ id มีการแสดงนำไปแสดงผลที่ output หรือไม่ แสดงเป็นอะไร "
   ]
  },
  {
   "cell_type": "markdown",
   "metadata": {},
   "source": [
    "## ตอบ\n",
    "1. ข้อความ \"title: Node\" ไม่ได้มีการแสดงผลโดยตรง ใน output\n",
    "2. ข้อความ \"id\" มีการแสดงผลใน output โดยปรากฏเป็นกล่องสี่เหลี่ยมผืนผ้าที่มีข้อความ \"id\" เขียนอยู่ภายใน"
   ]
  },
  {
   "cell_type": "markdown",
   "metadata": {},
   "source": [
    "---"
   ]
  },
  {
   "cell_type": "markdown",
   "metadata": {},
   "source": [
    "#### 2. Node ที่มีข้อความกำกับ"
   ]
  },
  {
   "cell_type": "markdown",
   "metadata": {},
   "source": [
    "จาก Example 2 ให้แก้ข้อความดังนี้\n",
    "> ```diff\n",
    "> ---\n",
    "> title: Node\n",
    "> ---\n",
    "> flowchart LR\n",
    "> -    id\n",
    "> +    id[Happy New Year] \n",
    "> ```    "
   ]
  },
  {
   "cell_type": "code",
   "execution_count": null,
   "metadata": {
    "dotnet_interactive": {
     "language": "mermaid"
    },
    "polyglot_notebook": {
     "kernelName": "mermaid"
    }
   },
   "outputs": [
    {
     "data": {
      "text/html": [
       "<div class=\"mermaidMarkdownContainer\" style=\"background-color:white\">\r\n",
       "<link rel=\"stylesheet\" href=\"https://cdnjs.cloudflare.com/ajax/libs/font-awesome/6.2.0/css/all.min.css\">\r\n",
       "<div id=\"5476f72e2932475b9c250b6cd9052e0f\"></div>\r\n",
       "<script type=\"module\">\r\n",
       "\r\n",
       "            import mermaid from 'https://cdn.jsdelivr.net/npm/mermaid@10.6.1/dist/mermaid.esm.min.mjs';\r\n",
       "            let renderTarget = document.getElementById('5476f72e2932475b9c250b6cd9052e0f');\r\n",
       "            try {\r\n",
       "                const {svg, bindFunctions} = await mermaid.mermaidAPI.render( \r\n",
       "                    'mermaid_5476f72e2932475b9c250b6cd9052e0f', \r\n",
       "                    `---\r\n",
       "title: Node\r\n",
       "---\r\n",
       "flowchart LR\r\n",
       "    id[Happy New Year]`);\r\n",
       "                renderTarget.innerHTML = svg;\r\n",
       "                bindFunctions?.(renderTarget);\r\n",
       "            }\r\n",
       "            catch (error) {\r\n",
       "                console.log(error);\r\n",
       "            }\r\n",
       "</script>\r\n",
       "</div>\r\n"
      ]
     },
     "metadata": {},
     "output_type": "display_data"
    }
   ],
   "source": [
    "---\n",
    "title: Node\n",
    "---\n",
    "flowchart LR\n",
    "    id[Happy New Year]"
   ]
  },
  {
   "cell_type": "markdown",
   "metadata": {},
   "source": [
    "จาก code ด้านบน  ให้แก้เป็นดังต่อไปนี้\n",
    "> ```diff\n",
    "> ---\n",
    "> title: Node\n",
    "> ---\n",
    "> flowchart LR\n",
    "> -    id[Happy New Year] \n",
    "> +    id [Happy New Year] \n",
    "> ``` "
   ]
  },
  {
   "cell_type": "code",
   "execution_count": null,
   "metadata": {
    "dotnet_interactive": {
     "language": "mermaid"
    },
    "polyglot_notebook": {
     "kernelName": "mermaid"
    }
   },
   "outputs": [
    {
     "data": {
      "text/html": [
       "<div class=\"mermaidMarkdownContainer\" style=\"background-color:white\">\r\n",
       "<link rel=\"stylesheet\" href=\"https://cdnjs.cloudflare.com/ajax/libs/font-awesome/6.2.0/css/all.min.css\">\r\n",
       "<div id=\"a7a38cfcfabe4f4da270d2a34a20ea62\"></div>\r\n",
       "<script type=\"module\">\r\n",
       "\r\n",
       "            import mermaid from 'https://cdn.jsdelivr.net/npm/mermaid@10.6.1/dist/mermaid.esm.min.mjs';\r\n",
       "            let renderTarget = document.getElementById('a7a38cfcfabe4f4da270d2a34a20ea62');\r\n",
       "            try {\r\n",
       "                const {svg, bindFunctions} = await mermaid.mermaidAPI.render( \r\n",
       "                    'mermaid_a7a38cfcfabe4f4da270d2a34a20ea62', \r\n",
       "                    `---\r\n",
       "title: Node\r\n",
       "---\r\n",
       "flowchart LR\r\n",
       "   id [Happy New Year]`);\r\n",
       "                renderTarget.innerHTML = svg;\r\n",
       "                bindFunctions?.(renderTarget);\r\n",
       "            }\r\n",
       "            catch (error) {\r\n",
       "                console.log(error);\r\n",
       "            }\r\n",
       "</script>\r\n",
       "</div>\r\n"
      ]
     },
     "metadata": {},
     "output_type": "display_data"
    }
   ],
   "source": [
    "---\n",
    "title: Node\n",
    "---\n",
    "flowchart LR\n",
    "   id [Happy New Year]"
   ]
  },
  {
   "cell_type": "markdown",
   "metadata": {},
   "source": [
    "__คำถาม__\n",
    "\n",
    "เมื่อรัน code cell ด้านบน ผลที่ได้แตกต่างจาก Example 2  อย่างไร"
   ]
  },
  {
   "cell_type": "markdown",
   "metadata": {},
   "source": [
    "## ตอบ\n",
    "แตกต่างตรงที่โค้ดข้างล่างไม่มีการแสดงผลลัพธ์ out put ออกมา โดยอันแรก out put จะมีการแสดงกราฟออกมา แต่อันที่สองนั้น out put ไม่มีการแสดงกราฟออกมา"
   ]
  },
  {
   "cell_type": "markdown",
   "metadata": {},
   "source": [
    "---"
   ]
  },
  {
   "cell_type": "markdown",
   "metadata": {},
   "source": [
    "#### 3. การกำหนดทิศทางของ flow"
   ]
  },
  {
   "cell_type": "markdown",
   "metadata": {},
   "source": [
    "สร้าง code cell และเขียน code ภาษา mermaid ดังนี้\n",
    "> ```\n",
    "> flowchart TD\n",
    ">     Start --> Stop\n",
    "> ```"
   ]
  },
  {
   "cell_type": "code",
   "execution_count": null,
   "metadata": {
    "dotnet_interactive": {
     "language": "mermaid"
    },
    "polyglot_notebook": {
     "kernelName": "mermaid"
    }
   },
   "outputs": [
    {
     "data": {
      "text/html": [
       "<div class=\"mermaidMarkdownContainer\" style=\"background-color:white\">\r\n",
       "<link rel=\"stylesheet\" href=\"https://cdnjs.cloudflare.com/ajax/libs/font-awesome/6.2.0/css/all.min.css\">\r\n",
       "<div id=\"4399623032a949cf90f3885acca52f84\"></div>\r\n",
       "<script type=\"module\">\r\n",
       "\r\n",
       "            import mermaid from 'https://cdn.jsdelivr.net/npm/mermaid@10.6.1/dist/mermaid.esm.min.mjs';\r\n",
       "            let renderTarget = document.getElementById('4399623032a949cf90f3885acca52f84');\r\n",
       "            try {\r\n",
       "                const {svg, bindFunctions} = await mermaid.mermaidAPI.render( \r\n",
       "                    'mermaid_4399623032a949cf90f3885acca52f84', \r\n",
       "                    `flowchart TD\r\n",
       "    Start --> Stop`);\r\n",
       "                renderTarget.innerHTML = svg;\r\n",
       "                bindFunctions?.(renderTarget);\r\n",
       "            }\r\n",
       "            catch (error) {\r\n",
       "                console.log(error);\r\n",
       "            }\r\n",
       "</script>\r\n",
       "</div>\r\n"
      ]
     },
     "metadata": {},
     "output_type": "display_data"
    }
   ],
   "source": [
    "flowchart TD\n",
    "    Start --> Stop"
   ]
  },
  {
   "cell_type": "markdown",
   "metadata": {},
   "source": [
    "แก้ไข code ด้านบนดังนี้\n",
    "> ```diff\n",
    "> - flowchart TD\n",
    "> + flowchart LR\n",
    ">     Start --> Stop\n",
    "> ``` "
   ]
  },
  {
   "cell_type": "code",
   "execution_count": null,
   "metadata": {
    "dotnet_interactive": {
     "language": "mermaid"
    },
    "polyglot_notebook": {
     "kernelName": "mermaid"
    }
   },
   "outputs": [
    {
     "data": {
      "text/html": [
       "<div class=\"mermaidMarkdownContainer\" style=\"background-color:white\">\r\n",
       "<link rel=\"stylesheet\" href=\"https://cdnjs.cloudflare.com/ajax/libs/font-awesome/6.2.0/css/all.min.css\">\r\n",
       "<div id=\"f1e65beecacb44f0944277bee6027dfc\"></div>\r\n",
       "<script type=\"module\">\r\n",
       "\r\n",
       "            import mermaid from 'https://cdn.jsdelivr.net/npm/mermaid@10.6.1/dist/mermaid.esm.min.mjs';\r\n",
       "            let renderTarget = document.getElementById('f1e65beecacb44f0944277bee6027dfc');\r\n",
       "            try {\r\n",
       "                const {svg, bindFunctions} = await mermaid.mermaidAPI.render( \r\n",
       "                    'mermaid_f1e65beecacb44f0944277bee6027dfc', \r\n",
       "                    `flowchart LR\r\n",
       "    Start --> Stop`);\r\n",
       "                renderTarget.innerHTML = svg;\r\n",
       "                bindFunctions?.(renderTarget);\r\n",
       "            }\r\n",
       "            catch (error) {\r\n",
       "                console.log(error);\r\n",
       "            }\r\n",
       "</script>\r\n",
       "</div>\r\n"
      ]
     },
     "metadata": {},
     "output_type": "display_data"
    }
   ],
   "source": [
    "flowchart LR\n",
    "    Start --> Stop"
   ]
  },
  {
   "cell_type": "markdown",
   "metadata": {},
   "source": [
    "___คำถาม___\n",
    "\n",
    "flowchart TD และ flowchart LR ให้ผลแตกต่างกันอย่างไร\n",
    " "
   ]
  },
  {
   "cell_type": "markdown",
   "metadata": {},
   "source": [
    "## ตอบ\n",
    "TD flow chart จะเป็นแนวตั้ง LR flow chart จะเป็นแนวนอน ซึ่งลูกศรก็จะไปตามแนวนั้นๆที่เราตั้งค่าไว้ เช่น TD จะลงไปข้างล่าง LR จะไปทางซ้ายหรือขวา เป็นต้น"
   ]
  },
  {
   "cell_type": "markdown",
   "metadata": {},
   "source": [
    "---"
   ]
  },
  {
   "cell_type": "markdown",
   "metadata": {},
   "source": [
    "#### 4. รูปร่างของ Node"
   ]
  },
  {
   "cell_type": "markdown",
   "metadata": {},
   "source": [
    "รัน code cell ต่อไปนี้"
   ]
  },
  {
   "cell_type": "code",
   "execution_count": null,
   "metadata": {
    "dotnet_interactive": {
     "language": "mermaid"
    },
    "polyglot_notebook": {
     "kernelName": "mermaid"
    }
   },
   "outputs": [
    {
     "data": {
      "text/html": [
       "<div class=\"mermaidMarkdownContainer\" style=\"background-color:white\">\r\n",
       "<link rel=\"stylesheet\" href=\"https://cdnjs.cloudflare.com/ajax/libs/font-awesome/6.2.0/css/all.min.css\">\r\n",
       "<div id=\"b9714701e10340588ad560999e94228d\"></div>\r\n",
       "<script type=\"module\">\r\n",
       "\r\n",
       "            import mermaid from 'https://cdn.jsdelivr.net/npm/mermaid@10.6.1/dist/mermaid.esm.min.mjs';\r\n",
       "            let renderTarget = document.getElementById('b9714701e10340588ad560999e94228d');\r\n",
       "            try {\r\n",
       "                const {svg, bindFunctions} = await mermaid.mermaidAPI.render( \r\n",
       "                    'mermaid_b9714701e10340588ad560999e94228d', \r\n",
       "                    `flowchart LR\n",
       "    id1(This is the text in the box)`);\r\n",
       "                renderTarget.innerHTML = svg;\r\n",
       "                bindFunctions?.(renderTarget);\r\n",
       "            }\r\n",
       "            catch (error) {\r\n",
       "                console.log(error);\r\n",
       "            }\r\n",
       "</script>\r\n",
       "</div>\r\n"
      ]
     },
     "metadata": {},
     "output_type": "display_data"
    }
   ],
   "source": [
    "flowchart LR\n",
    "    id1(This is the text in the box)"
   ]
  },
  {
   "cell_type": "markdown",
   "metadata": {},
   "source": [
    "อธิบายรูปร่างที่ได้"
   ]
  },
  {
   "cell_type": "markdown",
   "metadata": {},
   "source": [
    "แก้ไข code ด้านบน เป็นดังต่อไปนี้\n",
    "> ```diff\n",
    "> flowchart LR\n",
    "> -    id1(This is the text in the box)\n",
    "> +    d1([This is the text in the box])\n",
    "> ```"
   ]
  },
  {
   "cell_type": "code",
   "execution_count": null,
   "metadata": {
    "dotnet_interactive": {
     "language": "mermaid"
    },
    "polyglot_notebook": {
     "kernelName": "mermaid"
    }
   },
   "outputs": [
    {
     "data": {
      "text/html": [
       "<div class=\"mermaidMarkdownContainer\" style=\"background-color:white\">\r\n",
       "<link rel=\"stylesheet\" href=\"https://cdnjs.cloudflare.com/ajax/libs/font-awesome/6.2.0/css/all.min.css\">\r\n",
       "<div id=\"a8aa1b6fbcfd43578e45a4b6aefb6269\"></div>\r\n",
       "<script type=\"module\">\r\n",
       "\r\n",
       "            import mermaid from 'https://cdn.jsdelivr.net/npm/mermaid@10.6.1/dist/mermaid.esm.min.mjs';\r\n",
       "            let renderTarget = document.getElementById('a8aa1b6fbcfd43578e45a4b6aefb6269');\r\n",
       "            try {\r\n",
       "                const {svg, bindFunctions} = await mermaid.mermaidAPI.render( \r\n",
       "                    'mermaid_a8aa1b6fbcfd43578e45a4b6aefb6269', \r\n",
       "                    `flowchart LR\r\n",
       "    d1([This is the text in the box])`);\r\n",
       "                renderTarget.innerHTML = svg;\r\n",
       "                bindFunctions?.(renderTarget);\r\n",
       "            }\r\n",
       "            catch (error) {\r\n",
       "                console.log(error);\r\n",
       "            }\r\n",
       "</script>\r\n",
       "</div>\r\n"
      ]
     },
     "metadata": {},
     "output_type": "display_data"
    }
   ],
   "source": [
    "flowchart LR\n",
    "    d1([This is the text in the box])"
   ]
  },
  {
   "cell_type": "markdown",
   "metadata": {},
   "source": [
    "อธิบายรูปร่างที่ได้"
   ]
  },
  {
   "cell_type": "markdown",
   "metadata": {},
   "source": [
    "## ตอบ\n",
    "id1 รูปร่างจะเป็นสี่เหลี่ยมทรงกระบอก d1 รูปร่างของขอบจะเป็นวงรีแต่ข้างในจะเป็นทรงกระบอก"
   ]
  },
  {
   "cell_type": "markdown",
   "metadata": {},
   "source": [
    "\n",
    "ให้สร้าง code cell แล้วนำ code จากตารางต่อไปนี้ไปวางใน code cell เหล่านั้น"
   ]
  },
  {
   "cell_type": "markdown",
   "metadata": {},
   "source": [
    "|รูปร่าง|เครื่องหมายที่ใช้|Code|\n",
    "|---|:---------:|---|\n",
    "|วงกลม| ((...))| flowchart LR<br><dd>id1((This is the text in the circle)) </dd>|\n",
    "|ทรงกระบอก| [(...)] |  flowchart LR <br> <dd>id1[(Database)]</dd>|\n",
    "|ป้ายกำกับ| >...]  |  flowchart LR <br> <dd>id1>This is the text in the box]</dd>|\n",
    "|การตัดสินใจ |{...} |  flowchart LR <br> <dd> id1{This is the text in the box} </dd>|\n",
    "|hexagon |{{...}} |  flowchart LR <br> <dd> {{This is the text in the box}} </dd>|\n",
    "| Parallelogram|[/.../] |  flowchart LR <br> <dd> id1[/This is the text in the box/]</dd>|\n",
    "| Parallelogram alt| [\\...\\]|  flowchart LR <br> <dd> id1[\\This is the text in the box\\]</dd>|\n",
    "|Trapezoid | [/...\\]|  flowchart LR <br> <dd>A[/Christmas\\]  </dd>|\n",
    "|Trapezoid alt | [\\.../]|  flowchart LR <br> <dd>B[\\Go shopping/]  </dd>|\n",
    "|Double circle| (((...)))|  flowchart LR <br> <dd> id1(((This is the text in the circle))) </dd>|  \n"
   ]
  },
  {
   "cell_type": "markdown",
   "metadata": {},
   "source": [
    "## แบบฝึดหัด\n",
    "\n",
    "1. ให้ค้นหา flowchart จาก internet มา 3 ภาพ ที่วาดขึ้นโดยโปรแกรมอื่นที่ไม่ใช่ mermaid  โดยมีองค์ประกอบในไดอะแกรมไม่น้อยกว่า 5 ชิ้นส่วน  \n",
    "2. เขียน code ในภาษา mermaid diagram เพื่อวาดตามไดอะแกรมนั้น\n",
    "3. นำภาพที่ได้เทียบกับต้นฉบับ โดย capture เป็น png แล้วแนบลิ้งค์มาในไฟล์ ipynb นี้ (อย่าวางภาพลงไปโดยการ copy & paste เนื่องจากจะทำให้ไฟล์ ipynb มีขนาดที่โตเกินไป)\n"
   ]
  },
  {
   "cell_type": "markdown",
   "metadata": {},
   "source": [
    "### ศึกษาเพิ่มเติม\n",
    "\n",
    "https://mermaid.js.org/syntax/flowchart.html"
   ]
  }
 ],
 "metadata": {
  "kernelspec": {
   "display_name": ".NET (C#)",
   "language": "C#",
   "name": ".net-csharp"
  },
  "polyglot_notebook": {
   "kernelInfo": {
    "defaultKernelName": "csharp",
    "items": [
     {
      "aliases": [],
      "languageName": "csharp",
      "name": "csharp"
     }
    ]
   }
  }
 },
 "nbformat": 4,
 "nbformat_minor": 2
}
