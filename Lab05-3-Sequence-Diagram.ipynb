{
 "cells": [
  {
   "cell_type": "markdown",
   "metadata": {},
   "source": [
    "# Lab 5.3 การวาด sequence diagram ด้วย mermaid diagram"
   ]
  },
  {
   "cell_type": "markdown",
   "metadata": {},
   "source": [
    "### 5.3.1 องค์ประกอบของ sequence diagram\n",
    "\n",
    "* Class หรือ Object\n",
    "  - เขียนแทนด้วย รูปสี่เหลี่ยม\n",
    "  - ภายในกรอบมีชื่อของ object/class ในรูปแบบ {Object}:Class\n",
    "  - {Object} หมายถึง การระบุหรือไม่ระบุ object ก็ได้\n",
    "\n",
    "* เส้นแสดงลำดับเวลา\n",
    "\n",
    "    - แทนด้วย เส้นตรงประแนวตั้ง\n",
    "    - เวลาจะเดินจากด้านบนมาสู่ด้านล่าง\n",
    "    - กิจกรรมบนสุดถือเป็นกิจกรรมแรก และกิจกรรมที่อยู่ต่ำลงมาจะเป็นกิจกรรมที่เกิดขึ้นต่อจากนั้น\n",
    "\n",
    "* เส้นแสดงกิจกรรม\n",
    "\n",
    "    - แทนด้วย ลูกศรแนวนอน\n",
    "    - ชี้จาก class/object หนึ่งไปยัง class/object ตัวต่อไป\n",
    "    - ชื่อของกิจกรรมจะต้องเป็น Function ที่มีอยู่ใน\n",
    "    - class/object ที่ลูกศรชี้ไป\n",
    "    - ชื่อจะอยู่ในรูปแบบ {[Condition]}Function"
   ]
  },
  {
   "cell_type": "markdown",
   "metadata": {},
   "source": [
    "### 5.3.2 ประโยชน์ของ Sequence Diagram\n",
    "- ช่วยให้รู้ว่า มี Function ขาดหายไปจาก Class Diagram หรือไม่\n",
    "- ช่วยให้พิจาณาได้ว่าควรเพิ่มเติม Function ใน Class Diagram อีกหรือไม่\n",
    "- ช่วยให้สามารถปรับปรุง Class Diagram ได้สมบูรณ์ ยิ่งขึ้น"
   ]
  },
  {
   "cell_type": "markdown",
   "metadata": {},
   "source": [
    "### 5.3.3 รูปแบบของลูกศรใน sequence diagram\n",
    "\n",
    "\n",
    "| Type\t| Description|\n",
    "|:-----:| -----------|\n",
    "|->\t    |Solid line without arrow  |\n",
    "|-->\t|Dotted line without arrow|\n",
    "|->>\t|Solid line with arrowhead|\n",
    "|-->>\t|Dotted line with arrowhead|\n",
    "|<<->>\t|Solid line with bidirectional arrowheads (v11.0.0+)|\n",
    "|<<-->>\t|Dotted line with bidirectional arrowheads (v11.0.0+)|\n",
    "|-x\t    |Solid line with a cross at the end|\n",
    "|--x\t|Dotted line with a cross at the end|\n",
    "|-)\t    |Solid line with an open arrow at the end (async)|\n",
    "|--)\t|Dotted line with a open arrow at the end (async)|"
   ]
  },
  {
   "cell_type": "markdown",
   "metadata": {},
   "source": [
    "-------"
   ]
  },
  {
   "cell_type": "markdown",
   "metadata": {},
   "source": [
    "### 5.3.4 การวาด Sequence diagram "
   ]
  },
  {
   "cell_type": "markdown",
   "metadata": {},
   "source": [
    "นำ code ต่อไปนี้ไปใส่ใน  mermaid code cell แล้วรันเพื่อดูผลลัพธ์\n",
    ">```diff\n",
    ">sequenceDiagram\n",
    ">    Alice->>John: Hello John, how are you?\n",
    ">    John-->>Alice: Great!\n",
    ">    Alice-)John: See you later!\n",
    ">```"
   ]
  },
  {
   "cell_type": "code",
   "execution_count": null,
   "metadata": {
    "dotnet_interactive": {
     "language": "mermaid"
    },
    "polyglot_notebook": {
     "kernelName": "mermaid"
    }
   },
   "outputs": [],
   "source": [
    "sequenceDiagram\n",
    "Alice->>John: Hello John, how are you?\n",
    "John-->>Alice: Great!\n",
    "Alice-)John: See you later!"
   ]
  },
  {
   "cell_type": "markdown",
   "metadata": {},
   "source": [
    "#### ตัวอย่าง sequence diagram  ของการใช้ตู้ ATM\n"
   ]
  },
  {
   "cell_type": "markdown",
   "metadata": {},
   "source": [
    "นำ code ต่อไปนี้ไปใส่ใน  mermaid code cell แล้วรันเพื่อดูผลลัพธ์\n",
    "> ```diff\n",
    "> sequenceDiagram\n",
    ">    User->>ATM: Insert card\n",
    ">    activate ATM\n",
    ">    ATM-->>User: Please input PIN\n",
    ">    deactivate ATM\n",
    ">    User->>ATM: Insert PIN\n",
    ">    activate ATM\n",
    ">    ATM-->>NetBank: Verify card and PIN\n",
    ">    activate NetBank\n",
    ">    NetBank-->>Bank: Verify account\n",
    ">    activate Bank\n",
    ">    Bank-->>NetBank: Invalid account\n",
    ">    deactivate Bank\n",
    ">    NetBank-->>ATM: Reject card\n",
    ">    deactivate NetBank\n",
    ">    ATM-->>User: Eject card\n",
    ">    deactivate ATM\n",
    ">```"
   ]
  },
  {
   "cell_type": "code",
   "execution_count": null,
   "metadata": {
    "dotnet_interactive": {
     "language": "mermaid"
    },
    "polyglot_notebook": {
     "kernelName": "mermaid"
    }
   },
   "outputs": [],
   "source": [
    "\n",
    "sequenceDiagram\n",
    "User->>ATM: Insert card\n",
    "activate ATM\n",
    "ATM-->>User: Please input PIN\n",
    "deactivate ATM\n",
    "User->>ATM: Insert PIN\n",
    "activate ATM\n",
    "ATM-->>NetBank: Verify card and PIN\n",
    "activate NetBank\n",
    "NetBank-->>Bank: Verify account\n",
    "activate Bank\n",
    "Bank-->>NetBank: Invalid account\n",
    "deactivate Bank\n",
    "NetBank-->>ATM: Reject card\n",
    "deactivate NetBank\n",
    "ATM-->>User: Eject card\n",
    "deactivate ATM"
   ]
  },
  {
   "cell_type": "markdown",
   "metadata": {},
   "source": [
    "------"
   ]
  },
  {
   "cell_type": "markdown",
   "metadata": {},
   "source": [
    "## แบบฝึดหัด\n",
    "\n",
    "1. ให้ค้นหา sequence diagram จาก internet มา 3 ภาพ ที่วาดขึ้นโดยโปรแกรมอื่นที่ไม่ใช่ mermaid  โดยมีองค์ประกอบในไดอะแกรมไม่น้อยกว่า 5 ชิ้นส่วน  \n",
    "2. เขียน code ในภาษา mermaid diagram เพื่อวาดตามไดอะแกรมนั้น\n",
    "3. นำภาพที่ได้เทียบกับต้นฉบับ โดย capture เป็น png แล้วแนบลิ้งค์มาในไฟล์ ipynb นี้ (อย่าวางภาพลงไปโดยการ copy & paste เนื่องจากจะทำให้ไฟล์ ipynb มีขนาดที่โตเกินไป)\n"
   ]
  },
  {
   "cell_type": "code",
   "execution_count": null,
   "metadata": {
    "dotnet_interactive": {
     "language": "mermaid"
    },
    "polyglot_notebook": {
     "kernelName": "mermaid"
    }
   },
   "outputs": [],
   "source": [
    "sequenceDiagram\n",
    "    participant User\n",
    "    participant WebPage\n",
    "    participant Server\n",
    "\n",
    "    User->>WebPage: กรอกชื่อผู้ใช้และรหัสผ่าน\n",
    "    WebPage->>Server: ส่งข้อมูลสำหรับการตรวจสอบ\n",
    "    Server->>WebPage: ส่งผลลัพธ์การตรวจสอบ\n",
    "    WebPage->>User: แสดงผลลัพธ์การเข้าสู่ระบบ\n"
   ]
  },
  {
   "cell_type": "code",
   "execution_count": null,
   "metadata": {
    "dotnet_interactive": {
     "language": "mermaid"
    },
    "polyglot_notebook": {
     "kernelName": "mermaid"
    }
   },
   "outputs": [],
   "source": [
    "sequenceDiagram\n",
    "    participant User\n",
    "    participant WebPage\n",
    "    participant PaymentSystem\n",
    "    participant Server\n",
    "    participant DeliveryService\n",
    "\n",
    "    User->>WebPage: เลือกสินค้าและเพิ่มลงในตะกร้า\n",
    "    User->>WebPage: ดำเนินการชำระเงิน\n",
    "    WebPage->>PaymentSystem: ส่งข้อมูลการชำระเงิน\n",
    "    PaymentSystem->>Server: ยืนยันการชำระเงิน\n",
    "    Server->>DeliveryService: ส่งข้อมูลการสั่งซื้อ\n",
    "    DeliveryService->>User: จัดส่งสินค้า\n"
   ]
  },
  {
   "cell_type": "code",
   "execution_count": null,
   "metadata": {
    "dotnet_interactive": {
     "language": "mermaid"
    },
    "polyglot_notebook": {
     "kernelName": "mermaid"
    }
   },
   "outputs": [],
   "source": [
    "sequenceDiagram\n",
    "    participant User\n",
    "    participant App\n",
    "    participant Server\n",
    "    participant Theater\n",
    "\n",
    "    User->>App: เลือกภาพยนตร์และเวลา\n",
    "    App->>User: แสดงรายละเอียดและราคาตั๋ว\n",
    "    User->>App: ยืนยันการจองและชำระเงิน\n",
    "    App->>Server: ส่งข้อมูลการชำระเงิน\n",
    "    Server->>Theater: ส่งข้อมูลการจอง\n",
    "    Theater->>User: แสดงตั๋วและที่นั่ง\n"
   ]
  }
 ],
 "metadata": {
  "kernelspec": {
   "display_name": ".NET (C#)",
   "language": "C#",
   "name": ".net-csharp"
  },
  "polyglot_notebook": {
   "kernelInfo": {
    "defaultKernelName": "mermaid",
    "items": [
     {
      "aliases": [],
      "languageName": "mermaid",
      "name": "mermaid"
     }
    ]
   }
  }
 },
 "nbformat": 4,
 "nbformat_minor": 2
}
